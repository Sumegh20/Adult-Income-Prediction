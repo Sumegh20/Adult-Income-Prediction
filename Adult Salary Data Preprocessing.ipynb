{
 "cells": [
  {
   "cell_type": "markdown",
   "id": "bab68657",
   "metadata": {},
   "source": [
    "The task is to predict whether a given adult makes more than $50,000 a year based attributes such as education, hours of work per week, etc.."
   ]
  },
  {
   "cell_type": "code",
   "execution_count": 1,
   "id": "5f53ba00",
   "metadata": {},
   "outputs": [],
   "source": [
    "import numpy as np\n",
    "import pandas as pd\n",
    "import matplotlib.pyplot as plt\n",
    "import seaborn as sns"
   ]
  },
  {
   "cell_type": "markdown",
   "id": "7cadad6b",
   "metadata": {},
   "source": [
    "### Read the Dataset"
   ]
  },
  {
   "cell_type": "code",
   "execution_count": 2,
   "id": "bd890f40",
   "metadata": {},
   "outputs": [
    {
     "data": {
      "text/html": [
       "<div>\n",
       "<style scoped>\n",
       "    .dataframe tbody tr th:only-of-type {\n",
       "        vertical-align: middle;\n",
       "    }\n",
       "\n",
       "    .dataframe tbody tr th {\n",
       "        vertical-align: top;\n",
       "    }\n",
       "\n",
       "    .dataframe thead th {\n",
       "        text-align: right;\n",
       "    }\n",
       "</style>\n",
       "<table border=\"1\" class=\"dataframe\">\n",
       "  <thead>\n",
       "    <tr style=\"text-align: right;\">\n",
       "      <th></th>\n",
       "      <th>Age</th>\n",
       "      <th>Workclass</th>\n",
       "      <th>Fnlwgt</th>\n",
       "      <th>Education</th>\n",
       "      <th>Education_Num</th>\n",
       "      <th>Marital_Status</th>\n",
       "      <th>Occupation</th>\n",
       "      <th>Relationship</th>\n",
       "      <th>Race</th>\n",
       "      <th>Sex</th>\n",
       "      <th>Capital_Gain</th>\n",
       "      <th>Capital_Loss</th>\n",
       "      <th>Hours_Per_Week</th>\n",
       "      <th>Native_Country</th>\n",
       "      <th>Salary</th>\n",
       "    </tr>\n",
       "  </thead>\n",
       "  <tbody>\n",
       "    <tr>\n",
       "      <th>0</th>\n",
       "      <td>39</td>\n",
       "      <td>State-gov</td>\n",
       "      <td>77516</td>\n",
       "      <td>Bachelors</td>\n",
       "      <td>13</td>\n",
       "      <td>Never-married</td>\n",
       "      <td>Adm-clerical</td>\n",
       "      <td>Not-in-family</td>\n",
       "      <td>White</td>\n",
       "      <td>Male</td>\n",
       "      <td>2174</td>\n",
       "      <td>0</td>\n",
       "      <td>40</td>\n",
       "      <td>United-States</td>\n",
       "      <td>&lt;=50K</td>\n",
       "    </tr>\n",
       "    <tr>\n",
       "      <th>1</th>\n",
       "      <td>50</td>\n",
       "      <td>Self-emp-not-inc</td>\n",
       "      <td>83311</td>\n",
       "      <td>Bachelors</td>\n",
       "      <td>13</td>\n",
       "      <td>Married-civ-spouse</td>\n",
       "      <td>Exec-managerial</td>\n",
       "      <td>Husband</td>\n",
       "      <td>White</td>\n",
       "      <td>Male</td>\n",
       "      <td>0</td>\n",
       "      <td>0</td>\n",
       "      <td>13</td>\n",
       "      <td>United-States</td>\n",
       "      <td>&lt;=50K</td>\n",
       "    </tr>\n",
       "    <tr>\n",
       "      <th>2</th>\n",
       "      <td>38</td>\n",
       "      <td>Private</td>\n",
       "      <td>215646</td>\n",
       "      <td>HS-grad</td>\n",
       "      <td>9</td>\n",
       "      <td>Divorced</td>\n",
       "      <td>Handlers-cleaners</td>\n",
       "      <td>Not-in-family</td>\n",
       "      <td>White</td>\n",
       "      <td>Male</td>\n",
       "      <td>0</td>\n",
       "      <td>0</td>\n",
       "      <td>40</td>\n",
       "      <td>United-States</td>\n",
       "      <td>&lt;=50K</td>\n",
       "    </tr>\n",
       "    <tr>\n",
       "      <th>3</th>\n",
       "      <td>53</td>\n",
       "      <td>Private</td>\n",
       "      <td>234721</td>\n",
       "      <td>11th</td>\n",
       "      <td>7</td>\n",
       "      <td>Married-civ-spouse</td>\n",
       "      <td>Handlers-cleaners</td>\n",
       "      <td>Husband</td>\n",
       "      <td>Black</td>\n",
       "      <td>Male</td>\n",
       "      <td>0</td>\n",
       "      <td>0</td>\n",
       "      <td>40</td>\n",
       "      <td>United-States</td>\n",
       "      <td>&lt;=50K</td>\n",
       "    </tr>\n",
       "    <tr>\n",
       "      <th>4</th>\n",
       "      <td>28</td>\n",
       "      <td>Private</td>\n",
       "      <td>338409</td>\n",
       "      <td>Bachelors</td>\n",
       "      <td>13</td>\n",
       "      <td>Married-civ-spouse</td>\n",
       "      <td>Prof-specialty</td>\n",
       "      <td>Wife</td>\n",
       "      <td>Black</td>\n",
       "      <td>Female</td>\n",
       "      <td>0</td>\n",
       "      <td>0</td>\n",
       "      <td>40</td>\n",
       "      <td>Cuba</td>\n",
       "      <td>&lt;=50K</td>\n",
       "    </tr>\n",
       "    <tr>\n",
       "      <th>5</th>\n",
       "      <td>37</td>\n",
       "      <td>Private</td>\n",
       "      <td>284582</td>\n",
       "      <td>Masters</td>\n",
       "      <td>14</td>\n",
       "      <td>Married-civ-spouse</td>\n",
       "      <td>Exec-managerial</td>\n",
       "      <td>Wife</td>\n",
       "      <td>White</td>\n",
       "      <td>Female</td>\n",
       "      <td>0</td>\n",
       "      <td>0</td>\n",
       "      <td>40</td>\n",
       "      <td>United-States</td>\n",
       "      <td>&lt;=50K</td>\n",
       "    </tr>\n",
       "    <tr>\n",
       "      <th>6</th>\n",
       "      <td>49</td>\n",
       "      <td>Private</td>\n",
       "      <td>160187</td>\n",
       "      <td>9th</td>\n",
       "      <td>5</td>\n",
       "      <td>Married-spouse-absent</td>\n",
       "      <td>Other-service</td>\n",
       "      <td>Not-in-family</td>\n",
       "      <td>Black</td>\n",
       "      <td>Female</td>\n",
       "      <td>0</td>\n",
       "      <td>0</td>\n",
       "      <td>16</td>\n",
       "      <td>Jamaica</td>\n",
       "      <td>&lt;=50K</td>\n",
       "    </tr>\n",
       "    <tr>\n",
       "      <th>7</th>\n",
       "      <td>52</td>\n",
       "      <td>Self-emp-not-inc</td>\n",
       "      <td>209642</td>\n",
       "      <td>HS-grad</td>\n",
       "      <td>9</td>\n",
       "      <td>Married-civ-spouse</td>\n",
       "      <td>Exec-managerial</td>\n",
       "      <td>Husband</td>\n",
       "      <td>White</td>\n",
       "      <td>Male</td>\n",
       "      <td>0</td>\n",
       "      <td>0</td>\n",
       "      <td>45</td>\n",
       "      <td>United-States</td>\n",
       "      <td>&gt;50K</td>\n",
       "    </tr>\n",
       "    <tr>\n",
       "      <th>8</th>\n",
       "      <td>31</td>\n",
       "      <td>Private</td>\n",
       "      <td>45781</td>\n",
       "      <td>Masters</td>\n",
       "      <td>14</td>\n",
       "      <td>Never-married</td>\n",
       "      <td>Prof-specialty</td>\n",
       "      <td>Not-in-family</td>\n",
       "      <td>White</td>\n",
       "      <td>Female</td>\n",
       "      <td>14084</td>\n",
       "      <td>0</td>\n",
       "      <td>50</td>\n",
       "      <td>United-States</td>\n",
       "      <td>&gt;50K</td>\n",
       "    </tr>\n",
       "    <tr>\n",
       "      <th>9</th>\n",
       "      <td>42</td>\n",
       "      <td>Private</td>\n",
       "      <td>159449</td>\n",
       "      <td>Bachelors</td>\n",
       "      <td>13</td>\n",
       "      <td>Married-civ-spouse</td>\n",
       "      <td>Exec-managerial</td>\n",
       "      <td>Husband</td>\n",
       "      <td>White</td>\n",
       "      <td>Male</td>\n",
       "      <td>5178</td>\n",
       "      <td>0</td>\n",
       "      <td>40</td>\n",
       "      <td>United-States</td>\n",
       "      <td>&gt;50K</td>\n",
       "    </tr>\n",
       "  </tbody>\n",
       "</table>\n",
       "</div>"
      ],
      "text/plain": [
       "   Age          Workclass  Fnlwgt   Education  Education_Num  \\\n",
       "0   39          State-gov   77516   Bachelors             13   \n",
       "1   50   Self-emp-not-inc   83311   Bachelors             13   \n",
       "2   38            Private  215646     HS-grad              9   \n",
       "3   53            Private  234721        11th              7   \n",
       "4   28            Private  338409   Bachelors             13   \n",
       "5   37            Private  284582     Masters             14   \n",
       "6   49            Private  160187         9th              5   \n",
       "7   52   Self-emp-not-inc  209642     HS-grad              9   \n",
       "8   31            Private   45781     Masters             14   \n",
       "9   42            Private  159449   Bachelors             13   \n",
       "\n",
       "           Marital_Status          Occupation    Relationship    Race  \\\n",
       "0           Never-married        Adm-clerical   Not-in-family   White   \n",
       "1      Married-civ-spouse     Exec-managerial         Husband   White   \n",
       "2                Divorced   Handlers-cleaners   Not-in-family   White   \n",
       "3      Married-civ-spouse   Handlers-cleaners         Husband   Black   \n",
       "4      Married-civ-spouse      Prof-specialty            Wife   Black   \n",
       "5      Married-civ-spouse     Exec-managerial            Wife   White   \n",
       "6   Married-spouse-absent       Other-service   Not-in-family   Black   \n",
       "7      Married-civ-spouse     Exec-managerial         Husband   White   \n",
       "8           Never-married      Prof-specialty   Not-in-family   White   \n",
       "9      Married-civ-spouse     Exec-managerial         Husband   White   \n",
       "\n",
       "       Sex  Capital_Gain  Capital_Loss  Hours_Per_Week  Native_Country  Salary  \n",
       "0     Male          2174             0              40   United-States   <=50K  \n",
       "1     Male             0             0              13   United-States   <=50K  \n",
       "2     Male             0             0              40   United-States   <=50K  \n",
       "3     Male             0             0              40   United-States   <=50K  \n",
       "4   Female             0             0              40            Cuba   <=50K  \n",
       "5   Female             0             0              40   United-States   <=50K  \n",
       "6   Female             0             0              16         Jamaica   <=50K  \n",
       "7     Male             0             0              45   United-States    >50K  \n",
       "8   Female         14084             0              50   United-States    >50K  \n",
       "9     Male          5178             0              40   United-States    >50K  "
      ]
     },
     "execution_count": 2,
     "metadata": {},
     "output_type": "execute_result"
    }
   ],
   "source": [
    "df = pd.read_table('adult.txt',sep=',')\n",
    "pd.set_option('display.max_columns', None)\n",
    "df.head(10)"
   ]
  },
  {
   "cell_type": "code",
   "execution_count": 3,
   "id": "070ab942",
   "metadata": {},
   "outputs": [
    {
     "data": {
      "text/plain": [
       "(32561, 15)"
      ]
     },
     "execution_count": 3,
     "metadata": {},
     "output_type": "execute_result"
    }
   ],
   "source": [
    "df.shape"
   ]
  },
  {
   "cell_type": "code",
   "execution_count": 4,
   "id": "770fa198",
   "metadata": {},
   "outputs": [
    {
     "name": "stdout",
     "output_type": "stream",
     "text": [
      "<class 'pandas.core.frame.DataFrame'>\n",
      "RangeIndex: 32561 entries, 0 to 32560\n",
      "Data columns (total 15 columns):\n",
      " #   Column          Non-Null Count  Dtype \n",
      "---  ------          --------------  ----- \n",
      " 0   Age             32561 non-null  int64 \n",
      " 1   Workclass       32561 non-null  object\n",
      " 2   Fnlwgt          32561 non-null  int64 \n",
      " 3   Education       32561 non-null  object\n",
      " 4   Education_Num   32561 non-null  int64 \n",
      " 5   Marital_Status  32561 non-null  object\n",
      " 6   Occupation      32561 non-null  object\n",
      " 7   Relationship    32561 non-null  object\n",
      " 8   Race            32561 non-null  object\n",
      " 9   Sex             32561 non-null  object\n",
      " 10  Capital_Gain    32561 non-null  int64 \n",
      " 11  Capital_Loss    32561 non-null  int64 \n",
      " 12  Hours_Per_Week  32561 non-null  int64 \n",
      " 13  Native_Country  32561 non-null  object\n",
      " 14  Salary          32561 non-null  object\n",
      "dtypes: int64(6), object(9)\n",
      "memory usage: 3.7+ MB\n"
     ]
    }
   ],
   "source": [
    "df.info()"
   ]
  },
  {
   "cell_type": "code",
   "execution_count": 5,
   "id": "8e9865c9",
   "metadata": {},
   "outputs": [
    {
     "data": {
      "text/html": [
       "<div>\n",
       "<style scoped>\n",
       "    .dataframe tbody tr th:only-of-type {\n",
       "        vertical-align: middle;\n",
       "    }\n",
       "\n",
       "    .dataframe tbody tr th {\n",
       "        vertical-align: top;\n",
       "    }\n",
       "\n",
       "    .dataframe thead th {\n",
       "        text-align: right;\n",
       "    }\n",
       "</style>\n",
       "<table border=\"1\" class=\"dataframe\">\n",
       "  <thead>\n",
       "    <tr style=\"text-align: right;\">\n",
       "      <th></th>\n",
       "      <th>Age</th>\n",
       "      <th>Fnlwgt</th>\n",
       "      <th>Education_Num</th>\n",
       "      <th>Capital_Gain</th>\n",
       "      <th>Capital_Loss</th>\n",
       "      <th>Hours_Per_Week</th>\n",
       "    </tr>\n",
       "  </thead>\n",
       "  <tbody>\n",
       "    <tr>\n",
       "      <th>count</th>\n",
       "      <td>32561.000000</td>\n",
       "      <td>3.256100e+04</td>\n",
       "      <td>32561.000000</td>\n",
       "      <td>32561.000000</td>\n",
       "      <td>32561.000000</td>\n",
       "      <td>32561.000000</td>\n",
       "    </tr>\n",
       "    <tr>\n",
       "      <th>mean</th>\n",
       "      <td>38.581647</td>\n",
       "      <td>1.897784e+05</td>\n",
       "      <td>10.080679</td>\n",
       "      <td>1077.648844</td>\n",
       "      <td>87.303830</td>\n",
       "      <td>40.437456</td>\n",
       "    </tr>\n",
       "    <tr>\n",
       "      <th>std</th>\n",
       "      <td>13.640433</td>\n",
       "      <td>1.055500e+05</td>\n",
       "      <td>2.572720</td>\n",
       "      <td>7385.292085</td>\n",
       "      <td>402.960219</td>\n",
       "      <td>12.347429</td>\n",
       "    </tr>\n",
       "    <tr>\n",
       "      <th>min</th>\n",
       "      <td>17.000000</td>\n",
       "      <td>1.228500e+04</td>\n",
       "      <td>1.000000</td>\n",
       "      <td>0.000000</td>\n",
       "      <td>0.000000</td>\n",
       "      <td>1.000000</td>\n",
       "    </tr>\n",
       "    <tr>\n",
       "      <th>25%</th>\n",
       "      <td>28.000000</td>\n",
       "      <td>1.178270e+05</td>\n",
       "      <td>9.000000</td>\n",
       "      <td>0.000000</td>\n",
       "      <td>0.000000</td>\n",
       "      <td>40.000000</td>\n",
       "    </tr>\n",
       "    <tr>\n",
       "      <th>50%</th>\n",
       "      <td>37.000000</td>\n",
       "      <td>1.783560e+05</td>\n",
       "      <td>10.000000</td>\n",
       "      <td>0.000000</td>\n",
       "      <td>0.000000</td>\n",
       "      <td>40.000000</td>\n",
       "    </tr>\n",
       "    <tr>\n",
       "      <th>75%</th>\n",
       "      <td>48.000000</td>\n",
       "      <td>2.370510e+05</td>\n",
       "      <td>12.000000</td>\n",
       "      <td>0.000000</td>\n",
       "      <td>0.000000</td>\n",
       "      <td>45.000000</td>\n",
       "    </tr>\n",
       "    <tr>\n",
       "      <th>max</th>\n",
       "      <td>90.000000</td>\n",
       "      <td>1.484705e+06</td>\n",
       "      <td>16.000000</td>\n",
       "      <td>99999.000000</td>\n",
       "      <td>4356.000000</td>\n",
       "      <td>99.000000</td>\n",
       "    </tr>\n",
       "  </tbody>\n",
       "</table>\n",
       "</div>"
      ],
      "text/plain": [
       "                Age        Fnlwgt  Education_Num  Capital_Gain  Capital_Loss  \\\n",
       "count  32561.000000  3.256100e+04   32561.000000  32561.000000  32561.000000   \n",
       "mean      38.581647  1.897784e+05      10.080679   1077.648844     87.303830   \n",
       "std       13.640433  1.055500e+05       2.572720   7385.292085    402.960219   \n",
       "min       17.000000  1.228500e+04       1.000000      0.000000      0.000000   \n",
       "25%       28.000000  1.178270e+05       9.000000      0.000000      0.000000   \n",
       "50%       37.000000  1.783560e+05      10.000000      0.000000      0.000000   \n",
       "75%       48.000000  2.370510e+05      12.000000      0.000000      0.000000   \n",
       "max       90.000000  1.484705e+06      16.000000  99999.000000   4356.000000   \n",
       "\n",
       "       Hours_Per_Week  \n",
       "count    32561.000000  \n",
       "mean        40.437456  \n",
       "std         12.347429  \n",
       "min          1.000000  \n",
       "25%         40.000000  \n",
       "50%         40.000000  \n",
       "75%         45.000000  \n",
       "max         99.000000  "
      ]
     },
     "execution_count": 5,
     "metadata": {},
     "output_type": "execute_result"
    }
   ],
   "source": [
    "df.describe()"
   ]
  },
  {
   "cell_type": "markdown",
   "id": "4ea4e772",
   "metadata": {},
   "source": [
    "### Check for Missing Values "
   ]
  },
  {
   "cell_type": "code",
   "execution_count": 6,
   "id": "946b86d9",
   "metadata": {},
   "outputs": [
    {
     "data": {
      "text/plain": [
       "Age               0\n",
       "Workclass         0\n",
       "Fnlwgt            0\n",
       "Education         0\n",
       "Education_Num     0\n",
       "Marital_Status    0\n",
       "Occupation        0\n",
       "Relationship      0\n",
       "Race              0\n",
       "Sex               0\n",
       "Capital_Gain      0\n",
       "Capital_Loss      0\n",
       "Hours_Per_Week    0\n",
       "Native_Country    0\n",
       "Salary            0\n",
       "dtype: int64"
      ]
     },
     "execution_count": 6,
     "metadata": {},
     "output_type": "execute_result"
    }
   ],
   "source": [
    "df.isnull().sum()"
   ]
  },
  {
   "cell_type": "markdown",
   "id": "1c8e3e3a",
   "metadata": {},
   "source": [
    "### Check for ' ?' "
   ]
  },
  {
   "cell_type": "code",
   "execution_count": 7,
   "id": "82e756d6",
   "metadata": {},
   "outputs": [
    {
     "data": {
      "text/plain": [
       "Age                  0\n",
       "Workclass         1836\n",
       "Fnlwgt               0\n",
       "Education            0\n",
       "Education_Num        0\n",
       "Marital_Status       0\n",
       "Occupation        1843\n",
       "Relationship         0\n",
       "Race                 0\n",
       "Sex                  0\n",
       "Capital_Gain         0\n",
       "Capital_Loss         0\n",
       "Hours_Per_Week       0\n",
       "Native_Country     583\n",
       "Salary               0\n",
       "dtype: int64"
      ]
     },
     "execution_count": 7,
     "metadata": {},
     "output_type": "execute_result"
    }
   ],
   "source": [
    "df.isin([' ?']).sum()"
   ]
  },
  {
   "cell_type": "code",
   "execution_count": 8,
   "id": "37d96949",
   "metadata": {},
   "outputs": [
    {
     "data": {
      "text/plain": [
       "Age               0.000000\n",
       "Workclass         5.638647\n",
       "Fnlwgt            0.000000\n",
       "Education         0.000000\n",
       "Education_Num     0.000000\n",
       "Marital_Status    0.000000\n",
       "Occupation        5.660146\n",
       "Relationship      0.000000\n",
       "Race              0.000000\n",
       "Sex               0.000000\n",
       "Capital_Gain      0.000000\n",
       "Capital_Loss      0.000000\n",
       "Hours_Per_Week    0.000000\n",
       "Native_Country    1.790486\n",
       "Salary            0.000000\n",
       "dtype: float64"
      ]
     },
     "execution_count": 8,
     "metadata": {},
     "output_type": "execute_result"
    }
   ],
   "source": [
    "df.isin([' ?']).sum()/len(df)*100"
   ]
  },
  {
   "cell_type": "markdown",
   "id": "39e8eacf",
   "metadata": {},
   "source": [
    "## Remark\n",
    "1. There is no NaN value in the Dataset\n",
    "2. But there is some ' ?' values in the columns Workclass,Occupation,Native_Country"
   ]
  },
  {
   "cell_type": "markdown",
   "id": "b10fdb96",
   "metadata": {},
   "source": [
    "### Check for Duplicate Record"
   ]
  },
  {
   "cell_type": "code",
   "execution_count": 9,
   "id": "8ca7a3bd",
   "metadata": {},
   "outputs": [
    {
     "data": {
      "text/plain": [
       "24"
      ]
     },
     "execution_count": 9,
     "metadata": {},
     "output_type": "execute_result"
    }
   ],
   "source": [
    "df.duplicated().sum()"
   ]
  },
  {
   "cell_type": "markdown",
   "id": "6c92bbfe",
   "metadata": {},
   "source": [
    "## Remark\n",
    "1. There is 24 duplicate records"
   ]
  },
  {
   "cell_type": "markdown",
   "id": "e36e5eae",
   "metadata": {},
   "source": [
    "## Univariate Analysis"
   ]
  },
  {
   "cell_type": "markdown",
   "id": "9d69c0dd",
   "metadata": {},
   "source": [
    "### Plot the target column Salary"
   ]
  },
  {
   "cell_type": "code",
   "execution_count": 10,
   "id": "fbeb1938",
   "metadata": {
    "scrolled": false
   },
   "outputs": [
    {
     "data": {
      "text/plain": [
       "Text(0.5, 1.0, 'Salary')"
      ]
     },
     "execution_count": 10,
     "metadata": {},
     "output_type": "execute_result"
    },
    {
     "data": {
      "image/png": "[encoded data removed]",
      "text/plain": [
       "<Figure size 504x360 with 1 Axes>"
      ]
     },
     "metadata": {
      "needs_background": "light"
     },
     "output_type": "display_data"
    }
   ],
   "source": [
    "plt.figure(figsize=(7,5))\n",
    "sns.countplot(x='Salary',data=df)\n",
    "plt.title(\"Salary\")"
   ]
  },
  {
   "cell_type": "code",
   "execution_count": 11,
   "id": "9e26e1d7",
   "metadata": {
    "scrolled": true
   },
   "outputs": [
    {
     "data": {
      "text/plain": [
       " <=50K    24720\n",
       " >50K      7841\n",
       "Name: Salary, dtype: int64"
      ]
     },
     "execution_count": 11,
     "metadata": {},
     "output_type": "execute_result"
    }
   ],
   "source": [
    "df['Salary'].value_counts()"
   ]
  },
  {
   "cell_type": "code",
   "execution_count": 12,
   "id": "3f93fb8f",
   "metadata": {},
   "outputs": [
    {
     "name": "stdout",
     "output_type": "stream",
     "text": [
      "75.91904425539757\n"
     ]
    },
    {
     "data": {
      "text/plain": [
       "24.080955744602438"
      ]
     },
     "execution_count": 12,
     "metadata": {},
     "output_type": "execute_result"
    }
   ],
   "source": [
    "## Parcentage of <=50k values\n",
    "\n",
    "print((24720/(24720+7841))*100)\n",
    "(7841/(24720+7841))*100"
   ]
  },
  {
   "cell_type": "markdown",
   "id": "947050bd",
   "metadata": {},
   "source": [
    "## Remark\n",
    "1. It is an imbalanced dataset\n",
    "2. Around 76% data is <=50k"
   ]
  },
  {
   "cell_type": "markdown",
   "id": "411ffd2f",
   "metadata": {},
   "source": [
    "### Categorical Variable"
   ]
  },
  {
   "cell_type": "code",
   "execution_count": 13,
   "id": "5c985c64",
   "metadata": {},
   "outputs": [],
   "source": [
    "Categorical = [i for i in df.columns if df[i].dtypes == object]"
   ]
  },
  {
   "cell_type": "code",
   "execution_count": 14,
   "id": "debe34d1",
   "metadata": {},
   "outputs": [
    {
     "data": {
      "text/html": [
       "<div>\n",
       "<style scoped>\n",
       "    .dataframe tbody tr th:only-of-type {\n",
       "        vertical-align: middle;\n",
       "    }\n",
       "\n",
       "    .dataframe tbody tr th {\n",
       "        vertical-align: top;\n",
       "    }\n",
       "\n",
       "    .dataframe thead th {\n",
       "        text-align: right;\n",
       "    }\n",
       "</style>\n",
       "<table border=\"1\" class=\"dataframe\">\n",
       "  <thead>\n",
       "    <tr style=\"text-align: right;\">\n",
       "      <th></th>\n",
       "      <th>columns</th>\n",
       "      <th>values</th>\n",
       "      <th>inc_na</th>\n",
       "      <th>exc_na</th>\n",
       "      <th>missval</th>\n",
       "      <th>%_missval</th>\n",
       "    </tr>\n",
       "  </thead>\n",
       "  <tbody>\n",
       "    <tr>\n",
       "      <th>0</th>\n",
       "      <td>Salary</td>\n",
       "      <td>[ &lt;=50K,  &gt;50K]</td>\n",
       "      <td>2</td>\n",
       "      <td>2</td>\n",
       "      <td>0</td>\n",
       "      <td>0.0</td>\n",
       "    </tr>\n",
       "    <tr>\n",
       "      <th>1</th>\n",
       "      <td>Native_Country</td>\n",
       "      <td>[ United-States,  Cuba,  Jamaica,  India,  ?, ...</td>\n",
       "      <td>42</td>\n",
       "      <td>42</td>\n",
       "      <td>0</td>\n",
       "      <td>0.0</td>\n",
       "    </tr>\n",
       "    <tr>\n",
       "      <th>2</th>\n",
       "      <td>Sex</td>\n",
       "      <td>[ Male,  Female]</td>\n",
       "      <td>2</td>\n",
       "      <td>2</td>\n",
       "      <td>0</td>\n",
       "      <td>0.0</td>\n",
       "    </tr>\n",
       "    <tr>\n",
       "      <th>3</th>\n",
       "      <td>Race</td>\n",
       "      <td>[ White,  Black,  Asian-Pac-Islander,  Amer-In...</td>\n",
       "      <td>5</td>\n",
       "      <td>5</td>\n",
       "      <td>0</td>\n",
       "      <td>0.0</td>\n",
       "    </tr>\n",
       "    <tr>\n",
       "      <th>4</th>\n",
       "      <td>Relationship</td>\n",
       "      <td>[ Not-in-family,  Husband,  Wife,  Own-child, ...</td>\n",
       "      <td>6</td>\n",
       "      <td>6</td>\n",
       "      <td>0</td>\n",
       "      <td>0.0</td>\n",
       "    </tr>\n",
       "    <tr>\n",
       "      <th>5</th>\n",
       "      <td>Occupation</td>\n",
       "      <td>[ Adm-clerical,  Exec-managerial,  Handlers-cl...</td>\n",
       "      <td>15</td>\n",
       "      <td>15</td>\n",
       "      <td>0</td>\n",
       "      <td>0.0</td>\n",
       "    </tr>\n",
       "    <tr>\n",
       "      <th>6</th>\n",
       "      <td>Marital_Status</td>\n",
       "      <td>[ Never-married,  Married-civ-spouse,  Divorce...</td>\n",
       "      <td>7</td>\n",
       "      <td>7</td>\n",
       "      <td>0</td>\n",
       "      <td>0.0</td>\n",
       "    </tr>\n",
       "    <tr>\n",
       "      <th>7</th>\n",
       "      <td>Education</td>\n",
       "      <td>[ Bachelors,  HS-grad,  11th,  Masters,  9th, ...</td>\n",
       "      <td>16</td>\n",
       "      <td>16</td>\n",
       "      <td>0</td>\n",
       "      <td>0.0</td>\n",
       "    </tr>\n",
       "    <tr>\n",
       "      <th>8</th>\n",
       "      <td>Workclass</td>\n",
       "      <td>[ State-gov,  Self-emp-not-inc,  Private,  Fed...</td>\n",
       "      <td>9</td>\n",
       "      <td>9</td>\n",
       "      <td>0</td>\n",
       "      <td>0.0</td>\n",
       "    </tr>\n",
       "  </tbody>\n",
       "</table>\n",
       "</div>"
      ],
      "text/plain": [
       "          columns                                             values inc_na  \\\n",
       "0          Salary                                    [ <=50K,  >50K]      2   \n",
       "1  Native_Country  [ United-States,  Cuba,  Jamaica,  India,  ?, ...     42   \n",
       "2             Sex                                   [ Male,  Female]      2   \n",
       "3            Race  [ White,  Black,  Asian-Pac-Islander,  Amer-In...      5   \n",
       "4    Relationship  [ Not-in-family,  Husband,  Wife,  Own-child, ...      6   \n",
       "5      Occupation  [ Adm-clerical,  Exec-managerial,  Handlers-cl...     15   \n",
       "6  Marital_Status  [ Never-married,  Married-civ-spouse,  Divorce...      7   \n",
       "7       Education  [ Bachelors,  HS-grad,  11th,  Masters,  9th, ...     16   \n",
       "8       Workclass  [ State-gov,  Self-emp-not-inc,  Private,  Fed...      9   \n",
       "\n",
       "  exc_na missval  %_missval  \n",
       "0      2       0        0.0  \n",
       "1     42       0        0.0  \n",
       "2      2       0        0.0  \n",
       "3      5       0        0.0  \n",
       "4      6       0        0.0  \n",
       "5     15       0        0.0  \n",
       "6      7       0        0.0  \n",
       "7     16       0        0.0  \n",
       "8      9       0        0.0  "
      ]
     },
     "execution_count": 14,
     "metadata": {},
     "output_type": "execute_result"
    }
   ],
   "source": [
    "#Summary of Categorial data\n",
    "\n",
    "Categorical_summary = pd.DataFrame(columns=['columns', 'values', 'inc_na', 'exc_na', 'missval', '%_missval'])\n",
    "temp = pd.DataFrame()\n",
    "\n",
    "for i in Categorical:\n",
    "    temp['columns'] = [i]\n",
    "    temp['values'] = [df[i].unique()]\n",
    "    temp['inc_na'] = len(df[i].unique())\n",
    "    temp['exc_na'] = df[i].nunique()\n",
    "    temp['missval'] = df[i].isnull().sum()\n",
    "    temp['%_missval'] = (df[i].isnull().sum()/len(df))*100\n",
    "    Categorical_summary = pd.concat([temp,Categorical_summary],ignore_index=True)\n",
    "    \n",
    "Categorical_summary"
   ]
  },
  {
   "cell_type": "code",
   "execution_count": 15,
   "id": "0c4df66a",
   "metadata": {},
   "outputs": [
    {
     "data": {
      "text/plain": [
       "{'Workclass': array([' State-gov', ' Self-emp-not-inc', ' Private', ' Federal-gov',\n",
       "        ' Local-gov', ' ?', ' Self-emp-inc', ' Without-pay',\n",
       "        ' Never-worked'], dtype=object),\n",
       " 'Education': array([' Bachelors', ' HS-grad', ' 11th', ' Masters', ' 9th',\n",
       "        ' Some-college', ' Assoc-acdm', ' Assoc-voc', ' 7th-8th',\n",
       "        ' Doctorate', ' Prof-school', ' 5th-6th', ' 10th', ' 1st-4th',\n",
       "        ' Preschool', ' 12th'], dtype=object),\n",
       " 'Marital_Status': array([' Never-married', ' Married-civ-spouse', ' Divorced',\n",
       "        ' Married-spouse-absent', ' Separated', ' Married-AF-spouse',\n",
       "        ' Widowed'], dtype=object),\n",
       " 'Occupation': array([' Adm-clerical', ' Exec-managerial', ' Handlers-cleaners',\n",
       "        ' Prof-specialty', ' Other-service', ' Sales', ' Craft-repair',\n",
       "        ' Transport-moving', ' Farming-fishing', ' Machine-op-inspct',\n",
       "        ' Tech-support', ' ?', ' Protective-serv', ' Armed-Forces',\n",
       "        ' Priv-house-serv'], dtype=object),\n",
       " 'Relationship': array([' Not-in-family', ' Husband', ' Wife', ' Own-child', ' Unmarried',\n",
       "        ' Other-relative'], dtype=object),\n",
       " 'Race': array([' White', ' Black', ' Asian-Pac-Islander', ' Amer-Indian-Eskimo',\n",
       "        ' Other'], dtype=object),\n",
       " 'Sex': array([' Male', ' Female'], dtype=object),\n",
       " 'Native_Country': array([' United-States', ' Cuba', ' Jamaica', ' India', ' ?', ' Mexico',\n",
       "        ' South', ' Puerto-Rico', ' Honduras', ' England', ' Canada',\n",
       "        ' Germany', ' Iran', ' Philippines', ' Italy', ' Poland',\n",
       "        ' Columbia', ' Cambodia', ' Thailand', ' Ecuador', ' Laos',\n",
       "        ' Taiwan', ' Haiti', ' Portugal', ' Dominican-Republic',\n",
       "        ' El-Salvador', ' France', ' Guatemala', ' China', ' Japan',\n",
       "        ' Yugoslavia', ' Peru', ' Outlying-US(Guam-USVI-etc)', ' Scotland',\n",
       "        ' Trinadad&Tobago', ' Greece', ' Nicaragua', ' Vietnam', ' Hong',\n",
       "        ' Ireland', ' Hungary', ' Holand-Netherlands'], dtype=object),\n",
       " 'Salary': array([' <=50K', ' >50K'], dtype=object)}"
      ]
     },
     "execution_count": 15,
     "metadata": {},
     "output_type": "execute_result"
    }
   ],
   "source": [
    "Result = {}\n",
    "for i in Categorical:\n",
    "    j = i\n",
    "    Result[j]=df[i].unique()\n",
    "    \n",
    "Result"
   ]
  },
  {
   "cell_type": "code",
   "execution_count": 16,
   "id": "1ead6b6d",
   "metadata": {},
   "outputs": [],
   "source": [
    "Categorical = [i for i in Categorical if i != 'Salary']"
   ]
  },
  {
   "cell_type": "code",
   "execution_count": 17,
   "id": "9d7ae857",
   "metadata": {
    "scrolled": true
   },
   "outputs": [
    {
     "data": {
      "image/png": "[encoded data removed]",
      "text/plain": [
       "<Figure size 504x720 with 1 Axes>"
      ]
     },
     "metadata": {
      "needs_background": "light"
     },
     "output_type": "display_data"
    },
    {
     "data": {
      "image/png": "[encoded data removed]",
      "text/plain": [
       "<Figure size 504x720 with 1 Axes>"
      ]
     },
     "metadata": {
      "needs_background": "light"
     },
     "output_type": "display_data"
    },
    {
     "data": {
      "image/png": "[encoded data removed]",
      "text/plain": [
       "<Figure size 504x720 with 1 Axes>"
      ]
     },
     "metadata": {
      "needs_background": "light"
     },
     "output_type": "display_data"
    },
    {
     "data": {
      "image/png": "[encoded data removed]",
      "text/plain": [
       "<Figure size 504x720 with 1 Axes>"
      ]
     },
     "metadata": {
      "needs_background": "light"
     },
     "output_type": "display_data"
    },
    {
     "data": {
      "image/png": "[encoded data removed]",
      "text/plain": [
       "<Figure size 504x720 with 1 Axes>"
      ]
     },
     "metadata": {
      "needs_background": "light"
     },
     "output_type": "display_data"
    },
    {
     "data": {
      "image/png": "[encoded data removed]",
      "text/plain": [
       "<Figure size 504x720 with 1 Axes>"
      ]
     },
     "metadata": {
      "needs_background": "light"
     },
     "output_type": "display_data"
    },
    {
     "data": {
      "image/png": "[encoded data removed]",
      "text/plain": [
       "<Figure size 504x720 with 1 Axes>"
      ]
     },
     "metadata": {
      "needs_background": "light"
     },
     "output_type": "display_data"
    },
    {
     "data": {
      "image/png": "[encoded data removed]",
      "text/plain": [
       "<Figure size 504x720 with 1 Axes>"
      ]
     },
     "metadata": {
      "needs_background": "light"
     },
     "output_type": "display_data"
    }
   ],
   "source": [
    "# Count plot of Categorical variable\n",
    "\n",
    "for feature in Categorical:\n",
    "    data = df.copy()\n",
    "    plt.figure(figsize=(7,10))\n",
    "    sns.countplot(y=data[feature])\n",
    "    plt.title(feature, size=20)\n",
    "    plt.show()\n",
    "    "
   ]
  },
  {
   "cell_type": "code",
   "execution_count": 18,
   "id": "791fa7e6",
   "metadata": {
    "scrolled": true
   },
   "outputs": [
    {
     "data": {
      "image/png": "[encoded data removed]",
      "text/plain": [
       "<Figure size 504x720 with 1 Axes>"
      ]
     },
     "metadata": {
      "needs_background": "light"
     },
     "output_type": "display_data"
    },
    {
     "data": {
      "image/png": "[encoded data removed]",
      "text/plain": [
       "<Figure size 504x720 with 1 Axes>"
      ]
     },
     "metadata": {
      "needs_background": "light"
     },
     "output_type": "display_data"
    },
    {
     "data": {
      "image/png": "[encoded data removed]",
      "text/plain": [
       "<Figure size 504x720 with 1 Axes>"
      ]
     },
     "metadata": {
      "needs_background": "light"
     },
     "output_type": "display_data"
    },
    {
     "data": {
      "image/png": "[encoded data removed]",
      "text/plain": [
       "<Figure size 504x720 with 1 Axes>"
      ]
     },
     "metadata": {
      "needs_background": "light"
     },
     "output_type": "display_data"
    },
    {
     "data": {
      "image/png": "[encoded data removed]",
      "text/plain": [
       "<Figure size 504x720 with 1 Axes>"
      ]
     },
     "metadata": {
      "needs_background": "light"
     },
     "output_type": "display_data"
    },
    {
     "data": {
      "image/png": "[encoded data removed]",
      "text/plain": [
       "<Figure size 504x720 with 1 Axes>"
      ]
     },
     "metadata": {
      "needs_background": "light"
     },
     "output_type": "display_data"
    },
    {
     "data": {
      "image/png": "[encoded data removed]",
      "text/plain": [
       "<Figure size 504x720 with 1 Axes>"
      ]
     },
     "metadata": {
      "needs_background": "light"
     },
     "output_type": "display_data"
    },
    {
     "data": {
      "image/png": "[encoded data removed]",
      "text/plain": [
       "<Figure size 504x720 with 1 Axes>"
      ]
     },
     "metadata": {
      "needs_background": "light"
     },
     "output_type": "display_data"
    }
   ],
   "source": [
    "# Relationship Between Categorical Variable and Salary\n",
    "\n",
    "for feature in Categorical:\n",
    "    data = df.copy()\n",
    "    plt.figure(figsize=(7,10))\n",
    "    sns.countplot(y=data[feature],hue=data.Salary)\n",
    "    plt.title(feature, size=20)\n",
    "    plt.show()"
   ]
  },
  {
   "cell_type": "code",
   "execution_count": 19,
   "id": "a16da8d4",
   "metadata": {
    "scrolled": false
   },
   "outputs": [
    {
     "name": "stdout",
     "output_type": "stream",
     "text": [
      " State-gov : 3.99 :::: 1298\n",
      " Self-emp-not-inc : 7.8 :::: 2541\n",
      " Private : 69.7 :::: 22696\n",
      " Federal-gov : 2.95 :::: 960\n",
      " Local-gov : 6.43 :::: 2093\n",
      " ? : 5.64 :::: 1836\n",
      " Self-emp-inc : 3.43 :::: 1116\n",
      " Without-pay : 0.04 :::: 14\n",
      " Never-worked : 0.02 :::: 7\n"
     ]
    }
   ],
   "source": [
    "for i in df['Workclass'].unique():\n",
    "    print(f\"{i} : {round(len(df[df['Workclass'] == i])/len(df)*100,2)} :::: {len(df[df['Workclass'] == i])}\")"
   ]
  },
  {
   "cell_type": "code",
   "execution_count": 20,
   "id": "66c3227b",
   "metadata": {
    "scrolled": false
   },
   "outputs": [
    {
     "data": {
      "text/plain": [
       "array([13,  9,  7, 14,  5, 10, 12, 11,  4, 16, 15,  3,  6,  2,  1,  8],\n",
       "      dtype=int64)"
      ]
     },
     "execution_count": 20,
     "metadata": {},
     "output_type": "execute_result"
    }
   ],
   "source": [
    "df['Education_Num'].unique()"
   ]
  },
  {
   "cell_type": "code",
   "execution_count": 21,
   "id": "efe7fbe3",
   "metadata": {
    "scrolled": true
   },
   "outputs": [
    {
     "data": {
      "text/plain": [
       "array([' Bachelors', ' HS-grad', ' 11th', ' Masters', ' 9th',\n",
       "       ' Some-college', ' Assoc-acdm', ' Assoc-voc', ' 7th-8th',\n",
       "       ' Doctorate', ' Prof-school', ' 5th-6th', ' 10th', ' 1st-4th',\n",
       "       ' Preschool', ' 12th'], dtype=object)"
      ]
     },
     "execution_count": 21,
     "metadata": {},
     "output_type": "execute_result"
    }
   ],
   "source": [
    "df['Education'].unique()"
   ]
  },
  {
   "cell_type": "code",
   "execution_count": 22,
   "id": "70748b1e",
   "metadata": {
    "scrolled": false
   },
   "outputs": [
    {
     "name": "stdout",
     "output_type": "stream",
     "text": [
      " White : 85.43\n",
      " Black : 9.59\n",
      " Asian-Pac-Islander : 3.19\n",
      " Amer-Indian-Eskimo : 0.96\n",
      " Other : 0.83\n"
     ]
    }
   ],
   "source": [
    "for i in df['Race'].unique():\n",
    "    print(f\"{i} : {round(len(df[df['Race'] == i])/len(df)*100,2)}\")"
   ]
  },
  {
   "cell_type": "markdown",
   "id": "a6c23b1d",
   "metadata": {},
   "source": [
    "### Remark\n",
    "1. As Education_Num and Education both are represent same data we drop the 'Education' column\n",
    "2. Drop Relationship as we have Marital_Status\n",
    "3. As Amer-Indian-Eskimo and Other are present less than 1% of the observation in the dataset then we can mearge them togethet as Others\n",
    "4. Frequency Encoding on Native_Country as number of unique features in Native_Country  is 42"
   ]
  },
  {
   "cell_type": "markdown",
   "id": "f6dba7cf",
   "metadata": {},
   "source": [
    "## Numerical Variable"
   ]
  },
  {
   "cell_type": "code",
   "execution_count": 23,
   "id": "9ab53e36",
   "metadata": {},
   "outputs": [],
   "source": [
    "Numerical = [i for i in df.columns if df[i].dtypes != object]"
   ]
  },
  {
   "cell_type": "code",
   "execution_count": 24,
   "id": "0b379457",
   "metadata": {},
   "outputs": [
    {
     "data": {
      "text/html": [
       "<div>\n",
       "<style scoped>\n",
       "    .dataframe tbody tr th:only-of-type {\n",
       "        vertical-align: middle;\n",
       "    }\n",
       "\n",
       "    .dataframe tbody tr th {\n",
       "        vertical-align: top;\n",
       "    }\n",
       "\n",
       "    .dataframe thead th {\n",
       "        text-align: right;\n",
       "    }\n",
       "</style>\n",
       "<table border=\"1\" class=\"dataframe\">\n",
       "  <thead>\n",
       "    <tr style=\"text-align: right;\">\n",
       "      <th></th>\n",
       "      <th>columns</th>\n",
       "      <th>Min</th>\n",
       "      <th>Max</th>\n",
       "      <th>MissingVals</th>\n",
       "      <th>%_MissingVals</th>\n",
       "      <th>IQR</th>\n",
       "      <th>lower</th>\n",
       "      <th>upper</th>\n",
       "      <th>Outlier_upper</th>\n",
       "      <th>Outlier_lower</th>\n",
       "    </tr>\n",
       "  </thead>\n",
       "  <tbody>\n",
       "    <tr>\n",
       "      <th>0</th>\n",
       "      <td>Hours_Per_Week</td>\n",
       "      <td>1</td>\n",
       "      <td>99</td>\n",
       "      <td>0</td>\n",
       "      <td>0.0</td>\n",
       "      <td>5.0</td>\n",
       "      <td>32.5</td>\n",
       "      <td>52.5</td>\n",
       "      <td>3492</td>\n",
       "      <td>5516</td>\n",
       "    </tr>\n",
       "    <tr>\n",
       "      <th>1</th>\n",
       "      <td>Capital_Loss</td>\n",
       "      <td>0</td>\n",
       "      <td>4356</td>\n",
       "      <td>0</td>\n",
       "      <td>0.0</td>\n",
       "      <td>0.0</td>\n",
       "      <td>0.0</td>\n",
       "      <td>0.0</td>\n",
       "      <td>1519</td>\n",
       "      <td>0</td>\n",
       "    </tr>\n",
       "    <tr>\n",
       "      <th>2</th>\n",
       "      <td>Capital_Gain</td>\n",
       "      <td>0</td>\n",
       "      <td>99999</td>\n",
       "      <td>0</td>\n",
       "      <td>0.0</td>\n",
       "      <td>0.0</td>\n",
       "      <td>0.0</td>\n",
       "      <td>0.0</td>\n",
       "      <td>2712</td>\n",
       "      <td>0</td>\n",
       "    </tr>\n",
       "    <tr>\n",
       "      <th>3</th>\n",
       "      <td>Education_Num</td>\n",
       "      <td>1</td>\n",
       "      <td>16</td>\n",
       "      <td>0</td>\n",
       "      <td>0.0</td>\n",
       "      <td>3.0</td>\n",
       "      <td>4.5</td>\n",
       "      <td>16.5</td>\n",
       "      <td>0</td>\n",
       "      <td>1198</td>\n",
       "    </tr>\n",
       "    <tr>\n",
       "      <th>4</th>\n",
       "      <td>Fnlwgt</td>\n",
       "      <td>12285</td>\n",
       "      <td>1484705</td>\n",
       "      <td>0</td>\n",
       "      <td>0.0</td>\n",
       "      <td>119224.0</td>\n",
       "      <td>-61009.0</td>\n",
       "      <td>415887.0</td>\n",
       "      <td>992</td>\n",
       "      <td>0</td>\n",
       "    </tr>\n",
       "    <tr>\n",
       "      <th>5</th>\n",
       "      <td>Age</td>\n",
       "      <td>17</td>\n",
       "      <td>90</td>\n",
       "      <td>0</td>\n",
       "      <td>0.0</td>\n",
       "      <td>20.0</td>\n",
       "      <td>-2.0</td>\n",
       "      <td>78.0</td>\n",
       "      <td>143</td>\n",
       "      <td>0</td>\n",
       "    </tr>\n",
       "  </tbody>\n",
       "</table>\n",
       "</div>"
      ],
      "text/plain": [
       "          columns    Min      Max MissingVals  %_MissingVals       IQR  \\\n",
       "0  Hours_Per_Week      1       99           0            0.0       5.0   \n",
       "1    Capital_Loss      0     4356           0            0.0       0.0   \n",
       "2    Capital_Gain      0    99999           0            0.0       0.0   \n",
       "3   Education_Num      1       16           0            0.0       3.0   \n",
       "4          Fnlwgt  12285  1484705           0            0.0  119224.0   \n",
       "5             Age     17       90           0            0.0      20.0   \n",
       "\n",
       "     lower     upper Outlier_upper Outlier_lower  \n",
       "0     32.5      52.5          3492          5516  \n",
       "1      0.0       0.0          1519             0  \n",
       "2      0.0       0.0          2712             0  \n",
       "3      4.5      16.5             0          1198  \n",
       "4 -61009.0  415887.0           992             0  \n",
       "5     -2.0      78.0           143             0  "
      ]
     },
     "execution_count": 24,
     "metadata": {},
     "output_type": "execute_result"
    }
   ],
   "source": [
    "Numerical_summary = pd.DataFrame(columns=['columns','Min','Max','MissingVals','%_MissingVals','IQR','lower','upper','Outlier_upper','Outlier_lower'])\n",
    "temp = pd.DataFrame()\n",
    "for i in Numerical:\n",
    "    temp['columns'] = [i]\n",
    "    temp['Min'] = df[i].min()\n",
    "    temp['Max'] = df[i].max()\n",
    "    temp['MissingVals'] = df[i].isnull().sum()\n",
    "    temp['%_MissingVals'] = df[i].isnull().sum()/len(df)*100\n",
    "    temp['IQR'] = df[i].quantile(0.75) - df[i].quantile(0.25)\n",
    "    temp['lower'] = df[i].quantile(0.25) - 1.5*temp['IQR']\n",
    "    temp['upper'] = df[i].quantile(0.75) + 1.5*temp['IQR']\n",
    "    temp['Outlier_upper'] = len(df.loc[df[i]>float(temp['upper'])])\n",
    "    temp['Outlier_lower'] = len(df.loc[df[i]<float(temp['lower'])])\n",
    "    Numerical_summary = pd.concat([temp,Numerical_summary],ignore_index=True)\n",
    "    \n",
    "Numerical_summary"
   ]
  },
  {
   "cell_type": "code",
   "execution_count": 25,
   "id": "5545bd60",
   "metadata": {
    "scrolled": true
   },
   "outputs": [
    {
     "data": {
      "image/png": "[encoded data removed]",
      "text/plain": [
       "<Figure size 1080x720 with 2 Axes>"
      ]
     },
     "metadata": {
      "needs_background": "light"
     },
     "output_type": "display_data"
    },
    {
     "data": {
      "image/png": "[encoded data removed]",
      "text/plain": [
       "<Figure size 1080x720 with 2 Axes>"
      ]
     },
     "metadata": {
      "needs_background": "light"
     },
     "output_type": "display_data"
    },
    {
     "data": {
      "image/png": "[encoded data removed]",
      "text/plain": [
       "<Figure size 1080x720 with 2 Axes>"
      ]
     },
     "metadata": {
      "needs_background": "light"
     },
     "output_type": "display_data"
    },
    {
     "data": {
      "image/png": "[encoded data removed]",
      "text/plain": [
       "<Figure size 1080x720 with 2 Axes>"
      ]
     },
     "metadata": {
      "needs_background": "light"
     },
     "output_type": "display_data"
    },
    {
     "data": {
      "image/png": "[encoded data removed]",
      "text/plain": [
       "<Figure size 1080x720 with 2 Axes>"
      ]
     },
     "metadata": {
      "needs_background": "light"
     },
     "output_type": "display_data"
    },
    {
     "data": {
      "image/png": "[encoded data removed]",
      "text/plain": [
       "<Figure size 1080x720 with 2 Axes>"
      ]
     },
     "metadata": {
      "needs_background": "light"
     },
     "output_type": "display_data"
    },
    {
     "data": {
      "text/plain": [
       "<Figure size 1080x720 with 0 Axes>"
      ]
     },
     "metadata": {},
     "output_type": "display_data"
    }
   ],
   "source": [
    "ix = 1\n",
    "fig = plt.figure(figsize = (15,10))\n",
    "for c in list(Numerical):\n",
    "    if ix <= 2:\n",
    "        ax1 = fig.add_subplot(2,2,1)\n",
    "        sns.boxplot(data = df, x=c, ax = ax1)\n",
    "        ax2 = fig.add_subplot(2,2,2)\n",
    "        sns.histplot(data = df, x=c, ax = ax2,color=\"red\")\n",
    "    ix = 3\n",
    "    if ix == 3: \n",
    "        fig = plt.figure(figsize = (15,10))\n",
    "        ix =1"
   ]
  },
  {
   "cell_type": "code",
   "execution_count": 26,
   "id": "7ce96e3c",
   "metadata": {
    "scrolled": true
   },
   "outputs": [
    {
     "name": "stdout",
     "output_type": "stream",
     "text": [
      "0 : 95.33\n",
      "2042 : 0.03\n",
      "1408 : 0.06\n",
      "1902 : 0.62\n",
      "1573 : 0.02\n",
      "1887 : 0.49\n",
      "1719 : 0.07\n",
      "1762 : 0.04\n",
      "1564 : 0.08\n",
      "2179 : 0.05\n",
      "1816 : 0.01\n",
      "1980 : 0.07\n",
      "1977 : 0.52\n",
      "1876 : 0.12\n",
      "1340 : 0.02\n",
      "2206 : 0.02\n",
      "1741 : 0.07\n",
      "1485 : 0.16\n",
      "2339 : 0.05\n",
      "2415 : 0.15\n",
      "1380 : 0.02\n",
      "1721 : 0.06\n",
      "2051 : 0.06\n",
      "2377 : 0.06\n",
      "1669 : 0.07\n",
      "2352 : 0.01\n",
      "1672 : 0.1\n",
      "653 : 0.01\n",
      "2392 : 0.03\n",
      "1504 : 0.06\n",
      "2001 : 0.07\n",
      "1590 : 0.12\n",
      "1651 : 0.03\n",
      "1628 : 0.05\n",
      "1848 : 0.16\n",
      "1740 : 0.13\n",
      "2002 : 0.06\n",
      "1579 : 0.06\n",
      "2258 : 0.08\n",
      "1602 : 0.14\n",
      "419 : 0.01\n",
      "2547 : 0.01\n",
      "2174 : 0.02\n",
      "2205 : 0.03\n",
      "1726 : 0.01\n",
      "2444 : 0.04\n",
      "1138 : 0.01\n",
      "2238 : 0.01\n",
      "625 : 0.04\n",
      "213 : 0.01\n",
      "1539 : 0.0\n",
      "880 : 0.02\n",
      "1668 : 0.01\n",
      "1092 : 0.02\n",
      "1594 : 0.02\n",
      "3004 : 0.01\n",
      "2231 : 0.01\n",
      "1844 : 0.0\n",
      "810 : 0.01\n",
      "2824 : 0.03\n",
      "2559 : 0.04\n",
      "2057 : 0.02\n",
      "1974 : 0.06\n",
      "974 : 0.01\n",
      "2149 : 0.01\n",
      "1825 : 0.01\n",
      "1735 : 0.01\n",
      "1258 : 0.01\n",
      "2129 : 0.01\n",
      "2603 : 0.02\n",
      "2282 : 0.0\n",
      "323 : 0.01\n",
      "4356 : 0.01\n",
      "2246 : 0.02\n",
      "1617 : 0.03\n",
      "1648 : 0.01\n",
      "2489 : 0.0\n",
      "3770 : 0.01\n",
      "1755 : 0.01\n",
      "3683 : 0.01\n",
      "2267 : 0.01\n",
      "2080 : 0.0\n",
      "2457 : 0.01\n",
      "155 : 0.0\n",
      "3900 : 0.01\n",
      "2201 : 0.0\n",
      "1944 : 0.0\n",
      "2467 : 0.0\n",
      "2163 : 0.0\n",
      "2754 : 0.01\n",
      "2472 : 0.0\n",
      "1411 : 0.0\n"
     ]
    }
   ],
   "source": [
    "for i in df['Capital_Loss'].unique():\n",
    "    print(f\"{i} : {round(len(df[df['Capital_Loss'] == i])/len(df)*100,2)}\")"
   ]
  },
  {
   "cell_type": "code",
   "execution_count": 27,
   "id": "7dbaae0c",
   "metadata": {},
   "outputs": [
    {
     "name": "stdout",
     "output_type": "stream",
     "text": [
      "2174 : 0.15\n",
      "0 : 91.67\n",
      "14084 : 0.13\n",
      "5178 : 0.3\n",
      "5013 : 0.21\n",
      "2407 : 0.06\n",
      "14344 : 0.08\n",
      "15024 : 1.07\n",
      "7688 : 0.87\n",
      "34095 : 0.02\n",
      "4064 : 0.13\n",
      "4386 : 0.21\n",
      "7298 : 0.76\n",
      "1409 : 0.02\n",
      "3674 : 0.04\n",
      "1055 : 0.08\n",
      "3464 : 0.07\n",
      "2050 : 0.02\n",
      "2176 : 0.07\n",
      "594 : 0.1\n",
      "20051 : 0.11\n",
      "6849 : 0.08\n",
      "4101 : 0.06\n",
      "1111 : 0.0\n",
      "8614 : 0.17\n",
      "3411 : 0.07\n",
      "2597 : 0.06\n",
      "25236 : 0.03\n",
      "4650 : 0.13\n",
      "9386 : 0.07\n",
      "2463 : 0.03\n",
      "3103 : 0.3\n",
      "10605 : 0.04\n",
      "2964 : 0.03\n",
      "3325 : 0.16\n",
      "2580 : 0.04\n",
      "3471 : 0.02\n",
      "4865 : 0.05\n",
      "99999 : 0.49\n",
      "6514 : 0.02\n",
      "1471 : 0.02\n",
      "2329 : 0.02\n",
      "2105 : 0.03\n",
      "2885 : 0.07\n",
      "25124 : 0.01\n",
      "10520 : 0.13\n",
      "2202 : 0.05\n",
      "2961 : 0.01\n",
      "27828 : 0.1\n",
      "6767 : 0.02\n",
      "2228 : 0.02\n",
      "1506 : 0.05\n",
      "13550 : 0.08\n",
      "2635 : 0.03\n",
      "5556 : 0.02\n",
      "4787 : 0.07\n",
      "3781 : 0.04\n",
      "3137 : 0.11\n",
      "3818 : 0.02\n",
      "3942 : 0.04\n",
      "914 : 0.02\n",
      "401 : 0.01\n",
      "2829 : 0.1\n",
      "2977 : 0.02\n",
      "4934 : 0.02\n",
      "2062 : 0.01\n",
      "2354 : 0.03\n",
      "5455 : 0.03\n",
      "15020 : 0.02\n",
      "1424 : 0.01\n",
      "3273 : 0.02\n",
      "22040 : 0.0\n",
      "4416 : 0.04\n",
      "3908 : 0.1\n",
      "10566 : 0.02\n",
      "991 : 0.02\n",
      "4931 : 0.0\n",
      "1086 : 0.01\n",
      "7430 : 0.03\n",
      "6497 : 0.03\n",
      "114 : 0.02\n",
      "7896 : 0.01\n",
      "2346 : 0.02\n",
      "3418 : 0.02\n",
      "3432 : 0.01\n",
      "2907 : 0.03\n",
      "1151 : 0.02\n",
      "2414 : 0.02\n",
      "2290 : 0.02\n",
      "15831 : 0.02\n",
      "41310 : 0.01\n",
      "4508 : 0.04\n",
      "2538 : 0.0\n",
      "3456 : 0.01\n",
      "6418 : 0.03\n",
      "1848 : 0.02\n",
      "3887 : 0.02\n",
      "5721 : 0.01\n",
      "9562 : 0.01\n",
      "1455 : 0.0\n",
      "2036 : 0.01\n",
      "1831 : 0.02\n",
      "11678 : 0.01\n",
      "2936 : 0.01\n",
      "2993 : 0.01\n",
      "7443 : 0.02\n",
      "6360 : 0.01\n",
      "1797 : 0.02\n",
      "1173 : 0.01\n",
      "4687 : 0.01\n",
      "6723 : 0.01\n",
      "2009 : 0.01\n",
      "6097 : 0.0\n",
      "2653 : 0.02\n",
      "1639 : 0.0\n",
      "18481 : 0.01\n",
      "7978 : 0.0\n",
      "2387 : 0.0\n",
      "5060 : 0.0\n"
     ]
    }
   ],
   "source": [
    "for i in df['Capital_Gain'].unique():\n",
    "    print(f\"{i} : {round(len(df[df['Capital_Gain'] == i])/len(df)*100,2)}\")"
   ]
  },
  {
   "cell_type": "markdown",
   "id": "6912df03",
   "metadata": {},
   "source": [
    "### Remarks\n",
    "1. Age and Fnlwgt have positivly Skew Distribution & Outliers\n",
    "2. Drop Capital_Loss(95%) and Capital_Gain(91%) as more then 90% of the total dataset is 0\n",
    "3. "
   ]
  },
  {
   "cell_type": "markdown",
   "id": "5a37f31d",
   "metadata": {},
   "source": [
    "# ----------------------------------------------------------------------------------------------------------------"
   ]
  },
  {
   "cell_type": "code",
   "execution_count": 28,
   "id": "d8ac1661",
   "metadata": {},
   "outputs": [],
   "source": [
    "df1 = df.copy()"
   ]
  },
  {
   "cell_type": "markdown",
   "id": "ee70bf28",
   "metadata": {},
   "source": [
    "## Missing Value Imputation"
   ]
  },
  {
   "cell_type": "markdown",
   "id": "c76d7b91",
   "metadata": {},
   "source": [
    "### Replace ' ?' with ' Missing'"
   ]
  },
  {
   "cell_type": "code",
   "execution_count": 29,
   "id": "75c5c8b1",
   "metadata": {},
   "outputs": [],
   "source": [
    "for feature in df.columns:\n",
    "    df1[feature].replace(' ?',' Missing',inplace = True)"
   ]
  },
  {
   "cell_type": "code",
   "execution_count": 30,
   "id": "1d5037c2",
   "metadata": {
    "scrolled": true
   },
   "outputs": [
    {
     "data": {
      "text/plain": [
       "Age               0.0\n",
       "Workclass         0.0\n",
       "Fnlwgt            0.0\n",
       "Education         0.0\n",
       "Education_Num     0.0\n",
       "Marital_Status    0.0\n",
       "Occupation        0.0\n",
       "Relationship      0.0\n",
       "Race              0.0\n",
       "Sex               0.0\n",
       "Capital_Gain      0.0\n",
       "Capital_Loss      0.0\n",
       "Hours_Per_Week    0.0\n",
       "Native_Country    0.0\n",
       "Salary            0.0\n",
       "dtype: float64"
      ]
     },
     "execution_count": 30,
     "metadata": {},
     "output_type": "execute_result"
    }
   ],
   "source": [
    "df1.isin([' ?']).sum()/len(df)*100"
   ]
  },
  {
   "cell_type": "markdown",
   "id": "5eae9086",
   "metadata": {},
   "source": [
    "## Remove Duplicate Records "
   ]
  },
  {
   "cell_type": "code",
   "execution_count": 31,
   "id": "17d896ba",
   "metadata": {},
   "outputs": [
    {
     "data": {
      "text/plain": [
       "(32537, 15)"
      ]
     },
     "execution_count": 31,
     "metadata": {},
     "output_type": "execute_result"
    }
   ],
   "source": [
    "df1=df1.drop_duplicates()\n",
    "\n",
    "df1.shape"
   ]
  },
  {
   "cell_type": "markdown",
   "id": "b4d676a5",
   "metadata": {},
   "source": [
    "## Feature Engineering on Categorical Variables"
   ]
  },
  {
   "cell_type": "markdown",
   "id": "a014097b",
   "metadata": {},
   "source": [
    "### Drop Education and Relationship"
   ]
  },
  {
   "cell_type": "code",
   "execution_count": 32,
   "id": "36d8d228",
   "metadata": {},
   "outputs": [],
   "source": [
    "## Drop Education and Relationship columns\n",
    "\n",
    "df1.drop(labels = ['Education','Relationship'],axis = 1,inplace = True)"
   ]
  },
  {
   "cell_type": "markdown",
   "id": "67dd5656",
   "metadata": {},
   "source": [
    "###  Marital_Status\n",
    "1. (\" Married-civ-spouse\",\" Married-spouse-absent\",\" Married-AF-spouse\") With \"Married\""
   ]
  },
  {
   "cell_type": "code",
   "execution_count": 33,
   "id": "c109abfe",
   "metadata": {},
   "outputs": [
    {
     "data": {
      "text/plain": [
       "array([' Never-married', 'Married', ' Divorced', ' Separated', ' Widowed'],\n",
       "      dtype=object)"
      ]
     },
     "execution_count": 33,
     "metadata": {},
     "output_type": "execute_result"
    }
   ],
   "source": [
    "df1['Marital_Status'].replace((\" Married-civ-spouse\",\" Married-spouse-absent\",\" Married-AF-spouse\"),\"Married\",inplace=True)\n",
    "df1['Marital_Status'].unique()"
   ]
  },
  {
   "cell_type": "markdown",
   "id": "089ec5ad",
   "metadata": {},
   "source": [
    "###  Race\n",
    "\n",
    "1. (Amer-Indian-Eskimo , Other) with Other"
   ]
  },
  {
   "cell_type": "code",
   "execution_count": 34,
   "id": "1e45d001",
   "metadata": {},
   "outputs": [
    {
     "data": {
      "text/plain": [
       "array([' White', ' Black', ' Asian-Pac-Islander', ' Other'], dtype=object)"
      ]
     },
     "execution_count": 34,
     "metadata": {},
     "output_type": "execute_result"
    }
   ],
   "source": [
    "df1['Race'].replace(\" Amer-Indian-Eskimo\",\" Other\",inplace=True)\n",
    "df1['Race'].unique()"
   ]
  },
  {
   "cell_type": "markdown",
   "id": "1ce652f4",
   "metadata": {},
   "source": [
    "### Frequency Encoding on Native_Country"
   ]
  },
  {
   "cell_type": "code",
   "execution_count": 35,
   "id": "a0bbab94",
   "metadata": {},
   "outputs": [
    {
     "data": {
      "text/plain": [
       "37"
      ]
     },
     "execution_count": 35,
     "metadata": {},
     "output_type": "execute_result"
    }
   ],
   "source": [
    "## Creating a dictionary that contain the frequencies and the name of the category\n",
    "Country_frequency_map = df1.Native_Country.value_counts().to_dict()\n",
    "\n",
    "## Replace the categorical variable with the Frequency Encoding\n",
    "df1.Native_Country = df1.Native_Country.map(Country_frequency_map)\n",
    "\n",
    "df1['Native_Country'].nunique()"
   ]
  },
  {
   "cell_type": "markdown",
   "id": "8280d856",
   "metadata": {},
   "source": [
    "## Feature Engineering on Numerical Variables"
   ]
  },
  {
   "cell_type": "markdown",
   "id": "5cf69ae9",
   "metadata": {},
   "source": [
    "### Normalization"
   ]
  },
  {
   "cell_type": "code",
   "execution_count": 36,
   "id": "5f032f7e",
   "metadata": {},
   "outputs": [],
   "source": [
    "df1.Fnlwgt = np.log1p(df1.Fnlwgt)"
   ]
  },
  {
   "cell_type": "markdown",
   "id": "77cd9698",
   "metadata": {},
   "source": [
    "### Drop Capital_Loss Capital_Gain"
   ]
  },
  {
   "cell_type": "code",
   "execution_count": 37,
   "id": "857a5fad",
   "metadata": {},
   "outputs": [],
   "source": [
    "df1.drop(labels=['Capital_Loss','Capital_Gain'],axis = 1,inplace = True)"
   ]
  },
  {
   "cell_type": "markdown",
   "id": "4dfa4170",
   "metadata": {},
   "source": [
    "### Outlier Imputation on Fnlwgt"
   ]
  },
  {
   "cell_type": "code",
   "execution_count": 38,
   "id": "a7b1fdfb",
   "metadata": {},
   "outputs": [],
   "source": [
    "IQR = df1['Fnlwgt'].quantile(0.75) - df1['Fnlwgt'].quantile(0.25)\n",
    "upper = df1['Fnlwgt'].quantile(0.75) + 1.5*IQR\n",
    "lower = df1['Fnlwgt'].quantile(0.25) - 1.5*IQR\n",
    "\n",
    "df1.loc[df1['Fnlwgt'] > upper, ['Fnlwgt']] = upper\n",
    "df1.loc[df1['Fnlwgt'] < lower, ['Fnlwgt']] = lower"
   ]
  },
  {
   "cell_type": "code",
   "execution_count": 39,
   "id": "5bce89e1",
   "metadata": {},
   "outputs": [],
   "source": [
    "Numerical = [i for i in df1.columns if df1[i].dtypes != object and i != 'Native_Country']"
   ]
  },
  {
   "cell_type": "code",
   "execution_count": 40,
   "id": "175a9ba1",
   "metadata": {
    "scrolled": true
   },
   "outputs": [
    {
     "data": {
      "image/png": "[encoded data removed]",
      "text/plain": [
       "<Figure size 1080x720 with 2 Axes>"
      ]
     },
     "metadata": {
      "needs_background": "light"
     },
     "output_type": "display_data"
    },
    {
     "data": {
      "image/png": "[encoded data removed]",
      "text/plain": [
       "<Figure size 1080x720 with 2 Axes>"
      ]
     },
     "metadata": {
      "needs_background": "light"
     },
     "output_type": "display_data"
    },
    {
     "data": {
      "image/png": "[encoded data removed]",
      "text/plain": [
       "<Figure size 1080x720 with 2 Axes>"
      ]
     },
     "metadata": {
      "needs_background": "light"
     },
     "output_type": "display_data"
    },
    {
     "data": {
      "image/png": "[encoded data removed]",
      "text/plain": [
       "<Figure size 1080x720 with 2 Axes>"
      ]
     },
     "metadata": {
      "needs_background": "light"
     },
     "output_type": "display_data"
    },
    {
     "data": {
      "text/plain": [
       "<Figure size 1080x720 with 0 Axes>"
      ]
     },
     "metadata": {},
     "output_type": "display_data"
    }
   ],
   "source": [
    "ix = 1\n",
    "fig = plt.figure(figsize = (15,10))\n",
    "for c in list(Numerical):\n",
    "    if ix <= 2:\n",
    "        ax1 = fig.add_subplot(2,2,1)\n",
    "        sns.boxplot(data = df1, x=c, ax = ax1)\n",
    "        ax2 = fig.add_subplot(2,2,2)\n",
    "        sns.histplot(data = df1, x=c, ax = ax2,color=\"red\")\n",
    "    ix = 3\n",
    "    if ix == 3: \n",
    "        fig = plt.figure(figsize = (15,10))\n",
    "        ix =1"
   ]
  },
  {
   "cell_type": "markdown",
   "id": "460ac603",
   "metadata": {},
   "source": [
    "## One Hot Encoding"
   ]
  },
  {
   "cell_type": "code",
   "execution_count": 41,
   "id": "4a1ba55f",
   "metadata": {},
   "outputs": [
    {
     "data": {
      "text/html": [
       "<div>\n",
       "<style scoped>\n",
       "    .dataframe tbody tr th:only-of-type {\n",
       "        vertical-align: middle;\n",
       "    }\n",
       "\n",
       "    .dataframe tbody tr th {\n",
       "        vertical-align: top;\n",
       "    }\n",
       "\n",
       "    .dataframe thead th {\n",
       "        text-align: right;\n",
       "    }\n",
       "</style>\n",
       "<table border=\"1\" class=\"dataframe\">\n",
       "  <thead>\n",
       "    <tr style=\"text-align: right;\">\n",
       "      <th></th>\n",
       "      <th>Age</th>\n",
       "      <th>Workclass</th>\n",
       "      <th>Fnlwgt</th>\n",
       "      <th>Education_Num</th>\n",
       "      <th>Marital_Status</th>\n",
       "      <th>Occupation</th>\n",
       "      <th>Race</th>\n",
       "      <th>Sex</th>\n",
       "      <th>Hours_Per_Week</th>\n",
       "      <th>Native_Country</th>\n",
       "      <th>Salary</th>\n",
       "    </tr>\n",
       "  </thead>\n",
       "  <tbody>\n",
       "    <tr>\n",
       "      <th>0</th>\n",
       "      <td>39</td>\n",
       "      <td>State-gov</td>\n",
       "      <td>11.258253</td>\n",
       "      <td>13</td>\n",
       "      <td>Never-married</td>\n",
       "      <td>Adm-clerical</td>\n",
       "      <td>White</td>\n",
       "      <td>Male</td>\n",
       "      <td>40</td>\n",
       "      <td>29153</td>\n",
       "      <td>&lt;=50K</td>\n",
       "    </tr>\n",
       "    <tr>\n",
       "      <th>1</th>\n",
       "      <td>50</td>\n",
       "      <td>Self-emp-not-inc</td>\n",
       "      <td>11.330348</td>\n",
       "      <td>13</td>\n",
       "      <td>Married</td>\n",
       "      <td>Exec-managerial</td>\n",
       "      <td>White</td>\n",
       "      <td>Male</td>\n",
       "      <td>13</td>\n",
       "      <td>29153</td>\n",
       "      <td>&lt;=50K</td>\n",
       "    </tr>\n",
       "    <tr>\n",
       "      <th>2</th>\n",
       "      <td>38</td>\n",
       "      <td>Private</td>\n",
       "      <td>12.281398</td>\n",
       "      <td>9</td>\n",
       "      <td>Divorced</td>\n",
       "      <td>Handlers-cleaners</td>\n",
       "      <td>White</td>\n",
       "      <td>Male</td>\n",
       "      <td>40</td>\n",
       "      <td>29153</td>\n",
       "      <td>&lt;=50K</td>\n",
       "    </tr>\n",
       "    <tr>\n",
       "      <th>3</th>\n",
       "      <td>53</td>\n",
       "      <td>Private</td>\n",
       "      <td>12.366157</td>\n",
       "      <td>7</td>\n",
       "      <td>Married</td>\n",
       "      <td>Handlers-cleaners</td>\n",
       "      <td>Black</td>\n",
       "      <td>Male</td>\n",
       "      <td>40</td>\n",
       "      <td>29153</td>\n",
       "      <td>&lt;=50K</td>\n",
       "    </tr>\n",
       "    <tr>\n",
       "      <th>4</th>\n",
       "      <td>28</td>\n",
       "      <td>Private</td>\n",
       "      <td>12.732013</td>\n",
       "      <td>13</td>\n",
       "      <td>Married</td>\n",
       "      <td>Prof-specialty</td>\n",
       "      <td>Black</td>\n",
       "      <td>Female</td>\n",
       "      <td>40</td>\n",
       "      <td>95</td>\n",
       "      <td>&lt;=50K</td>\n",
       "    </tr>\n",
       "  </tbody>\n",
       "</table>\n",
       "</div>"
      ],
      "text/plain": [
       "   Age          Workclass     Fnlwgt  Education_Num  Marital_Status  \\\n",
       "0   39          State-gov  11.258253             13   Never-married   \n",
       "1   50   Self-emp-not-inc  11.330348             13         Married   \n",
       "2   38            Private  12.281398              9        Divorced   \n",
       "3   53            Private  12.366157              7         Married   \n",
       "4   28            Private  12.732013             13         Married   \n",
       "\n",
       "           Occupation    Race      Sex  Hours_Per_Week  Native_Country  Salary  \n",
       "0        Adm-clerical   White     Male              40           29153   <=50K  \n",
       "1     Exec-managerial   White     Male              13           29153   <=50K  \n",
       "2   Handlers-cleaners   White     Male              40           29153   <=50K  \n",
       "3   Handlers-cleaners   Black     Male              40           29153   <=50K  \n",
       "4      Prof-specialty   Black   Female              40              95   <=50K  "
      ]
     },
     "execution_count": 41,
     "metadata": {},
     "output_type": "execute_result"
    }
   ],
   "source": [
    "df1.head()"
   ]
  },
  {
   "cell_type": "code",
   "execution_count": 42,
   "id": "3040301c",
   "metadata": {},
   "outputs": [
    {
     "data": {
      "text/html": [
       "<div>\n",
       "<style scoped>\n",
       "    .dataframe tbody tr th:only-of-type {\n",
       "        vertical-align: middle;\n",
       "    }\n",
       "\n",
       "    .dataframe tbody tr th {\n",
       "        vertical-align: top;\n",
       "    }\n",
       "\n",
       "    .dataframe thead th {\n",
       "        text-align: right;\n",
       "    }\n",
       "</style>\n",
       "<table border=\"1\" class=\"dataframe\">\n",
       "  <thead>\n",
       "    <tr style=\"text-align: right;\">\n",
       "      <th></th>\n",
       "      <th>Age</th>\n",
       "      <th>Fnlwgt</th>\n",
       "      <th>Education_Num</th>\n",
       "      <th>Hours_Per_Week</th>\n",
       "      <th>Native_Country</th>\n",
       "      <th>Workclass_ Local-gov</th>\n",
       "      <th>Workclass_ Missing</th>\n",
       "      <th>Workclass_ Never-worked</th>\n",
       "      <th>Workclass_ Private</th>\n",
       "      <th>Workclass_ Self-emp-inc</th>\n",
       "      <th>Workclass_ Self-emp-not-inc</th>\n",
       "      <th>Workclass_ State-gov</th>\n",
       "      <th>Workclass_ Without-pay</th>\n",
       "      <th>Marital_Status_ Never-married</th>\n",
       "      <th>Marital_Status_ Separated</th>\n",
       "      <th>Marital_Status_ Widowed</th>\n",
       "      <th>Marital_Status_Married</th>\n",
       "      <th>Occupation_ Armed-Forces</th>\n",
       "      <th>Occupation_ Craft-repair</th>\n",
       "      <th>Occupation_ Exec-managerial</th>\n",
       "      <th>Occupation_ Farming-fishing</th>\n",
       "      <th>Occupation_ Handlers-cleaners</th>\n",
       "      <th>Occupation_ Machine-op-inspct</th>\n",
       "      <th>Occupation_ Missing</th>\n",
       "      <th>Occupation_ Other-service</th>\n",
       "      <th>Occupation_ Priv-house-serv</th>\n",
       "      <th>Occupation_ Prof-specialty</th>\n",
       "      <th>Occupation_ Protective-serv</th>\n",
       "      <th>Occupation_ Sales</th>\n",
       "      <th>Occupation_ Tech-support</th>\n",
       "      <th>Occupation_ Transport-moving</th>\n",
       "      <th>Race_ Black</th>\n",
       "      <th>Race_ Other</th>\n",
       "      <th>Race_ White</th>\n",
       "      <th>Sex_ Male</th>\n",
       "      <th>Salary_ &gt;50K</th>\n",
       "    </tr>\n",
       "  </thead>\n",
       "  <tbody>\n",
       "    <tr>\n",
       "      <th>0</th>\n",
       "      <td>39</td>\n",
       "      <td>11.258253</td>\n",
       "      <td>13</td>\n",
       "      <td>40</td>\n",
       "      <td>29153</td>\n",
       "      <td>0</td>\n",
       "      <td>0</td>\n",
       "      <td>0</td>\n",
       "      <td>0</td>\n",
       "      <td>0</td>\n",
       "      <td>0</td>\n",
       "      <td>1</td>\n",
       "      <td>0</td>\n",
       "      <td>1</td>\n",
       "      <td>0</td>\n",
       "      <td>0</td>\n",
       "      <td>0</td>\n",
       "      <td>0</td>\n",
       "      <td>0</td>\n",
       "      <td>0</td>\n",
       "      <td>0</td>\n",
       "      <td>0</td>\n",
       "      <td>0</td>\n",
       "      <td>0</td>\n",
       "      <td>0</td>\n",
       "      <td>0</td>\n",
       "      <td>0</td>\n",
       "      <td>0</td>\n",
       "      <td>0</td>\n",
       "      <td>0</td>\n",
       "      <td>0</td>\n",
       "      <td>0</td>\n",
       "      <td>0</td>\n",
       "      <td>1</td>\n",
       "      <td>1</td>\n",
       "      <td>0</td>\n",
       "    </tr>\n",
       "    <tr>\n",
       "      <th>1</th>\n",
       "      <td>50</td>\n",
       "      <td>11.330348</td>\n",
       "      <td>13</td>\n",
       "      <td>13</td>\n",
       "      <td>29153</td>\n",
       "      <td>0</td>\n",
       "      <td>0</td>\n",
       "      <td>0</td>\n",
       "      <td>0</td>\n",
       "      <td>0</td>\n",
       "      <td>1</td>\n",
       "      <td>0</td>\n",
       "      <td>0</td>\n",
       "      <td>0</td>\n",
       "      <td>0</td>\n",
       "      <td>0</td>\n",
       "      <td>1</td>\n",
       "      <td>0</td>\n",
       "      <td>0</td>\n",
       "      <td>1</td>\n",
       "      <td>0</td>\n",
       "      <td>0</td>\n",
       "      <td>0</td>\n",
       "      <td>0</td>\n",
       "      <td>0</td>\n",
       "      <td>0</td>\n",
       "      <td>0</td>\n",
       "      <td>0</td>\n",
       "      <td>0</td>\n",
       "      <td>0</td>\n",
       "      <td>0</td>\n",
       "      <td>0</td>\n",
       "      <td>0</td>\n",
       "      <td>1</td>\n",
       "      <td>1</td>\n",
       "      <td>0</td>\n",
       "    </tr>\n",
       "    <tr>\n",
       "      <th>2</th>\n",
       "      <td>38</td>\n",
       "      <td>12.281398</td>\n",
       "      <td>9</td>\n",
       "      <td>40</td>\n",
       "      <td>29153</td>\n",
       "      <td>0</td>\n",
       "      <td>0</td>\n",
       "      <td>0</td>\n",
       "      <td>1</td>\n",
       "      <td>0</td>\n",
       "      <td>0</td>\n",
       "      <td>0</td>\n",
       "      <td>0</td>\n",
       "      <td>0</td>\n",
       "      <td>0</td>\n",
       "      <td>0</td>\n",
       "      <td>0</td>\n",
       "      <td>0</td>\n",
       "      <td>0</td>\n",
       "      <td>0</td>\n",
       "      <td>0</td>\n",
       "      <td>1</td>\n",
       "      <td>0</td>\n",
       "      <td>0</td>\n",
       "      <td>0</td>\n",
       "      <td>0</td>\n",
       "      <td>0</td>\n",
       "      <td>0</td>\n",
       "      <td>0</td>\n",
       "      <td>0</td>\n",
       "      <td>0</td>\n",
       "      <td>0</td>\n",
       "      <td>0</td>\n",
       "      <td>1</td>\n",
       "      <td>1</td>\n",
       "      <td>0</td>\n",
       "    </tr>\n",
       "    <tr>\n",
       "      <th>3</th>\n",
       "      <td>53</td>\n",
       "      <td>12.366157</td>\n",
       "      <td>7</td>\n",
       "      <td>40</td>\n",
       "      <td>29153</td>\n",
       "      <td>0</td>\n",
       "      <td>0</td>\n",
       "      <td>0</td>\n",
       "      <td>1</td>\n",
       "      <td>0</td>\n",
       "      <td>0</td>\n",
       "      <td>0</td>\n",
       "      <td>0</td>\n",
       "      <td>0</td>\n",
       "      <td>0</td>\n",
       "      <td>0</td>\n",
       "      <td>1</td>\n",
       "      <td>0</td>\n",
       "      <td>0</td>\n",
       "      <td>0</td>\n",
       "      <td>0</td>\n",
       "      <td>1</td>\n",
       "      <td>0</td>\n",
       "      <td>0</td>\n",
       "      <td>0</td>\n",
       "      <td>0</td>\n",
       "      <td>0</td>\n",
       "      <td>0</td>\n",
       "      <td>0</td>\n",
       "      <td>0</td>\n",
       "      <td>0</td>\n",
       "      <td>1</td>\n",
       "      <td>0</td>\n",
       "      <td>0</td>\n",
       "      <td>1</td>\n",
       "      <td>0</td>\n",
       "    </tr>\n",
       "    <tr>\n",
       "      <th>4</th>\n",
       "      <td>28</td>\n",
       "      <td>12.732013</td>\n",
       "      <td>13</td>\n",
       "      <td>40</td>\n",
       "      <td>95</td>\n",
       "      <td>0</td>\n",
       "      <td>0</td>\n",
       "      <td>0</td>\n",
       "      <td>1</td>\n",
       "      <td>0</td>\n",
       "      <td>0</td>\n",
       "      <td>0</td>\n",
       "      <td>0</td>\n",
       "      <td>0</td>\n",
       "      <td>0</td>\n",
       "      <td>0</td>\n",
       "      <td>1</td>\n",
       "      <td>0</td>\n",
       "      <td>0</td>\n",
       "      <td>0</td>\n",
       "      <td>0</td>\n",
       "      <td>0</td>\n",
       "      <td>0</td>\n",
       "      <td>0</td>\n",
       "      <td>0</td>\n",
       "      <td>0</td>\n",
       "      <td>1</td>\n",
       "      <td>0</td>\n",
       "      <td>0</td>\n",
       "      <td>0</td>\n",
       "      <td>0</td>\n",
       "      <td>1</td>\n",
       "      <td>0</td>\n",
       "      <td>0</td>\n",
       "      <td>0</td>\n",
       "      <td>0</td>\n",
       "    </tr>\n",
       "    <tr>\n",
       "      <th>5</th>\n",
       "      <td>37</td>\n",
       "      <td>12.558780</td>\n",
       "      <td>14</td>\n",
       "      <td>40</td>\n",
       "      <td>29153</td>\n",
       "      <td>0</td>\n",
       "      <td>0</td>\n",
       "      <td>0</td>\n",
       "      <td>1</td>\n",
       "      <td>0</td>\n",
       "      <td>0</td>\n",
       "      <td>0</td>\n",
       "      <td>0</td>\n",
       "      <td>0</td>\n",
       "      <td>0</td>\n",
       "      <td>0</td>\n",
       "      <td>1</td>\n",
       "      <td>0</td>\n",
       "      <td>0</td>\n",
       "      <td>1</td>\n",
       "      <td>0</td>\n",
       "      <td>0</td>\n",
       "      <td>0</td>\n",
       "      <td>0</td>\n",
       "      <td>0</td>\n",
       "      <td>0</td>\n",
       "      <td>0</td>\n",
       "      <td>0</td>\n",
       "      <td>0</td>\n",
       "      <td>0</td>\n",
       "      <td>0</td>\n",
       "      <td>0</td>\n",
       "      <td>0</td>\n",
       "      <td>1</td>\n",
       "      <td>0</td>\n",
       "      <td>0</td>\n",
       "    </tr>\n",
       "    <tr>\n",
       "      <th>6</th>\n",
       "      <td>49</td>\n",
       "      <td>11.984103</td>\n",
       "      <td>5</td>\n",
       "      <td>16</td>\n",
       "      <td>81</td>\n",
       "      <td>0</td>\n",
       "      <td>0</td>\n",
       "      <td>0</td>\n",
       "      <td>1</td>\n",
       "      <td>0</td>\n",
       "      <td>0</td>\n",
       "      <td>0</td>\n",
       "      <td>0</td>\n",
       "      <td>0</td>\n",
       "      <td>0</td>\n",
       "      <td>0</td>\n",
       "      <td>1</td>\n",
       "      <td>0</td>\n",
       "      <td>0</td>\n",
       "      <td>0</td>\n",
       "      <td>0</td>\n",
       "      <td>0</td>\n",
       "      <td>0</td>\n",
       "      <td>0</td>\n",
       "      <td>1</td>\n",
       "      <td>0</td>\n",
       "      <td>0</td>\n",
       "      <td>0</td>\n",
       "      <td>0</td>\n",
       "      <td>0</td>\n",
       "      <td>0</td>\n",
       "      <td>1</td>\n",
       "      <td>0</td>\n",
       "      <td>0</td>\n",
       "      <td>0</td>\n",
       "      <td>0</td>\n",
       "    </tr>\n",
       "    <tr>\n",
       "      <th>7</th>\n",
       "      <td>52</td>\n",
       "      <td>12.253161</td>\n",
       "      <td>9</td>\n",
       "      <td>45</td>\n",
       "      <td>29153</td>\n",
       "      <td>0</td>\n",
       "      <td>0</td>\n",
       "      <td>0</td>\n",
       "      <td>0</td>\n",
       "      <td>0</td>\n",
       "      <td>1</td>\n",
       "      <td>0</td>\n",
       "      <td>0</td>\n",
       "      <td>0</td>\n",
       "      <td>0</td>\n",
       "      <td>0</td>\n",
       "      <td>1</td>\n",
       "      <td>0</td>\n",
       "      <td>0</td>\n",
       "      <td>1</td>\n",
       "      <td>0</td>\n",
       "      <td>0</td>\n",
       "      <td>0</td>\n",
       "      <td>0</td>\n",
       "      <td>0</td>\n",
       "      <td>0</td>\n",
       "      <td>0</td>\n",
       "      <td>0</td>\n",
       "      <td>0</td>\n",
       "      <td>0</td>\n",
       "      <td>0</td>\n",
       "      <td>0</td>\n",
       "      <td>0</td>\n",
       "      <td>1</td>\n",
       "      <td>1</td>\n",
       "      <td>1</td>\n",
       "    </tr>\n",
       "    <tr>\n",
       "      <th>8</th>\n",
       "      <td>31</td>\n",
       "      <td>10.731646</td>\n",
       "      <td>14</td>\n",
       "      <td>50</td>\n",
       "      <td>29153</td>\n",
       "      <td>0</td>\n",
       "      <td>0</td>\n",
       "      <td>0</td>\n",
       "      <td>1</td>\n",
       "      <td>0</td>\n",
       "      <td>0</td>\n",
       "      <td>0</td>\n",
       "      <td>0</td>\n",
       "      <td>1</td>\n",
       "      <td>0</td>\n",
       "      <td>0</td>\n",
       "      <td>0</td>\n",
       "      <td>0</td>\n",
       "      <td>0</td>\n",
       "      <td>0</td>\n",
       "      <td>0</td>\n",
       "      <td>0</td>\n",
       "      <td>0</td>\n",
       "      <td>0</td>\n",
       "      <td>0</td>\n",
       "      <td>0</td>\n",
       "      <td>1</td>\n",
       "      <td>0</td>\n",
       "      <td>0</td>\n",
       "      <td>0</td>\n",
       "      <td>0</td>\n",
       "      <td>0</td>\n",
       "      <td>0</td>\n",
       "      <td>1</td>\n",
       "      <td>0</td>\n",
       "      <td>1</td>\n",
       "    </tr>\n",
       "    <tr>\n",
       "      <th>9</th>\n",
       "      <td>42</td>\n",
       "      <td>11.979486</td>\n",
       "      <td>13</td>\n",
       "      <td>40</td>\n",
       "      <td>29153</td>\n",
       "      <td>0</td>\n",
       "      <td>0</td>\n",
       "      <td>0</td>\n",
       "      <td>1</td>\n",
       "      <td>0</td>\n",
       "      <td>0</td>\n",
       "      <td>0</td>\n",
       "      <td>0</td>\n",
       "      <td>0</td>\n",
       "      <td>0</td>\n",
       "      <td>0</td>\n",
       "      <td>1</td>\n",
       "      <td>0</td>\n",
       "      <td>0</td>\n",
       "      <td>1</td>\n",
       "      <td>0</td>\n",
       "      <td>0</td>\n",
       "      <td>0</td>\n",
       "      <td>0</td>\n",
       "      <td>0</td>\n",
       "      <td>0</td>\n",
       "      <td>0</td>\n",
       "      <td>0</td>\n",
       "      <td>0</td>\n",
       "      <td>0</td>\n",
       "      <td>0</td>\n",
       "      <td>0</td>\n",
       "      <td>0</td>\n",
       "      <td>1</td>\n",
       "      <td>1</td>\n",
       "      <td>1</td>\n",
       "    </tr>\n",
       "  </tbody>\n",
       "</table>\n",
       "</div>"
      ],
      "text/plain": [
       "   Age     Fnlwgt  Education_Num  Hours_Per_Week  Native_Country  \\\n",
       "0   39  11.258253             13              40           29153   \n",
       "1   50  11.330348             13              13           29153   \n",
       "2   38  12.281398              9              40           29153   \n",
       "3   53  12.366157              7              40           29153   \n",
       "4   28  12.732013             13              40              95   \n",
       "5   37  12.558780             14              40           29153   \n",
       "6   49  11.984103              5              16              81   \n",
       "7   52  12.253161              9              45           29153   \n",
       "8   31  10.731646             14              50           29153   \n",
       "9   42  11.979486             13              40           29153   \n",
       "\n",
       "   Workclass_ Local-gov  Workclass_ Missing  Workclass_ Never-worked  \\\n",
       "0                     0                   0                        0   \n",
       "1                     0                   0                        0   \n",
       "2                     0                   0                        0   \n",
       "3                     0                   0                        0   \n",
       "4                     0                   0                        0   \n",
       "5                     0                   0                        0   \n",
       "6                     0                   0                        0   \n",
       "7                     0                   0                        0   \n",
       "8                     0                   0                        0   \n",
       "9                     0                   0                        0   \n",
       "\n",
       "   Workclass_ Private  Workclass_ Self-emp-inc  Workclass_ Self-emp-not-inc  \\\n",
       "0                   0                        0                            0   \n",
       "1                   0                        0                            1   \n",
       "2                   1                        0                            0   \n",
       "3                   1                        0                            0   \n",
       "4                   1                        0                            0   \n",
       "5                   1                        0                            0   \n",
       "6                   1                        0                            0   \n",
       "7                   0                        0                            1   \n",
       "8                   1                        0                            0   \n",
       "9                   1                        0                            0   \n",
       "\n",
       "   Workclass_ State-gov  Workclass_ Without-pay  \\\n",
       "0                     1                       0   \n",
       "1                     0                       0   \n",
       "2                     0                       0   \n",
       "3                     0                       0   \n",
       "4                     0                       0   \n",
       "5                     0                       0   \n",
       "6                     0                       0   \n",
       "7                     0                       0   \n",
       "8                     0                       0   \n",
       "9                     0                       0   \n",
       "\n",
       "   Marital_Status_ Never-married  Marital_Status_ Separated  \\\n",
       "0                              1                          0   \n",
       "1                              0                          0   \n",
       "2                              0                          0   \n",
       "3                              0                          0   \n",
       "4                              0                          0   \n",
       "5                              0                          0   \n",
       "6                              0                          0   \n",
       "7                              0                          0   \n",
       "8                              1                          0   \n",
       "9                              0                          0   \n",
       "\n",
       "   Marital_Status_ Widowed  Marital_Status_Married  Occupation_ Armed-Forces  \\\n",
       "0                        0                       0                         0   \n",
       "1                        0                       1                         0   \n",
       "2                        0                       0                         0   \n",
       "3                        0                       1                         0   \n",
       "4                        0                       1                         0   \n",
       "5                        0                       1                         0   \n",
       "6                        0                       1                         0   \n",
       "7                        0                       1                         0   \n",
       "8                        0                       0                         0   \n",
       "9                        0                       1                         0   \n",
       "\n",
       "   Occupation_ Craft-repair  Occupation_ Exec-managerial  \\\n",
       "0                         0                            0   \n",
       "1                         0                            1   \n",
       "2                         0                            0   \n",
       "3                         0                            0   \n",
       "4                         0                            0   \n",
       "5                         0                            1   \n",
       "6                         0                            0   \n",
       "7                         0                            1   \n",
       "8                         0                            0   \n",
       "9                         0                            1   \n",
       "\n",
       "   Occupation_ Farming-fishing  Occupation_ Handlers-cleaners  \\\n",
       "0                            0                              0   \n",
       "1                            0                              0   \n",
       "2                            0                              1   \n",
       "3                            0                              1   \n",
       "4                            0                              0   \n",
       "5                            0                              0   \n",
       "6                            0                              0   \n",
       "7                            0                              0   \n",
       "8                            0                              0   \n",
       "9                            0                              0   \n",
       "\n",
       "   Occupation_ Machine-op-inspct  Occupation_ Missing  \\\n",
       "0                              0                    0   \n",
       "1                              0                    0   \n",
       "2                              0                    0   \n",
       "3                              0                    0   \n",
       "4                              0                    0   \n",
       "5                              0                    0   \n",
       "6                              0                    0   \n",
       "7                              0                    0   \n",
       "8                              0                    0   \n",
       "9                              0                    0   \n",
       "\n",
       "   Occupation_ Other-service  Occupation_ Priv-house-serv  \\\n",
       "0                          0                            0   \n",
       "1                          0                            0   \n",
       "2                          0                            0   \n",
       "3                          0                            0   \n",
       "4                          0                            0   \n",
       "5                          0                            0   \n",
       "6                          1                            0   \n",
       "7                          0                            0   \n",
       "8                          0                            0   \n",
       "9                          0                            0   \n",
       "\n",
       "   Occupation_ Prof-specialty  Occupation_ Protective-serv  Occupation_ Sales  \\\n",
       "0                           0                            0                  0   \n",
       "1                           0                            0                  0   \n",
       "2                           0                            0                  0   \n",
       "3                           0                            0                  0   \n",
       "4                           1                            0                  0   \n",
       "5                           0                            0                  0   \n",
       "6                           0                            0                  0   \n",
       "7                           0                            0                  0   \n",
       "8                           1                            0                  0   \n",
       "9                           0                            0                  0   \n",
       "\n",
       "   Occupation_ Tech-support  Occupation_ Transport-moving  Race_ Black  \\\n",
       "0                         0                             0            0   \n",
       "1                         0                             0            0   \n",
       "2                         0                             0            0   \n",
       "3                         0                             0            1   \n",
       "4                         0                             0            1   \n",
       "5                         0                             0            0   \n",
       "6                         0                             0            1   \n",
       "7                         0                             0            0   \n",
       "8                         0                             0            0   \n",
       "9                         0                             0            0   \n",
       "\n",
       "   Race_ Other  Race_ White  Sex_ Male  Salary_ >50K  \n",
       "0            0            1          1             0  \n",
       "1            0            1          1             0  \n",
       "2            0            1          1             0  \n",
       "3            0            0          1             0  \n",
       "4            0            0          0             0  \n",
       "5            0            1          0             0  \n",
       "6            0            0          0             0  \n",
       "7            0            1          1             1  \n",
       "8            0            1          0             1  \n",
       "9            0            1          1             1  "
      ]
     },
     "execution_count": 42,
     "metadata": {},
     "output_type": "execute_result"
    }
   ],
   "source": [
    "df1 = pd.get_dummies(data = df1,columns=['Workclass','Marital_Status','Occupation','Race','Sex','Salary'],drop_first=True)\n",
    "df1.head(10)"
   ]
  },
  {
   "cell_type": "code",
   "execution_count": 46,
   "id": "5086d508",
   "metadata": {},
   "outputs": [],
   "source": [
    "df1.to_csv('PreprocessedData.csv', index=False)"
   ]
  },
  {
   "cell_type": "code",
   "execution_count": null,
   "id": "3bc84564",
   "metadata": {},
   "outputs": [],
   "source": []
  },
  {
   "cell_type": "code",
   "execution_count": null,
   "id": "9118a71d",
   "metadata": {},
   "outputs": [],
   "source": []
  }
 ],
 "metadata": {
  "kernelspec": {
   "display_name": "Python 3",
   "language": "python",
   "name": "python3"
  },
  "language_info": {
   "codemirror_mode": {
    "name": "ipython",
    "version": 3
   },
   "file_extension": ".py",
   "mimetype": "text/x-python",
   "name": "python",
   "nbconvert_exporter": "python",
   "pygments_lexer": "ipython3",
   "version": "3.8.8"
  }
 },
 "nbformat": 4,
 "nbformat_minor": 5
}
