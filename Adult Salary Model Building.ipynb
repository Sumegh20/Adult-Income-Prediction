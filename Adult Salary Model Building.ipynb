{
 "cells": [
  {
   "cell_type": "code",
   "execution_count": 11,
   "id": "f8e0b97a",
   "metadata": {},
   "outputs": [],
   "source": [
    "import numpy as np\n",
    "import pandas as pd"
   ]
  },
  {
   "cell_type": "code",
   "execution_count": 12,
   "id": "5c789667",
   "metadata": {},
   "outputs": [],
   "source": [
    "df2 = pd.read_csv('PreprocessedData.csv')"
   ]
  },
  {
   "cell_type": "code",
   "execution_count": 13,
   "id": "c61fa6e4",
   "metadata": {},
   "outputs": [
    {
     "data": {
      "text/plain": [
       "(32537, 36)"
      ]
     },
     "execution_count": 13,
     "metadata": {},
     "output_type": "execute_result"
    }
   ],
   "source": [
    "df2.shape"
   ]
  },
  {
   "cell_type": "markdown",
   "id": "54517e99",
   "metadata": {},
   "source": [
    "### X,y split"
   ]
  },
  {
   "cell_type": "code",
   "execution_count": 14,
   "id": "308b1d6c",
   "metadata": {},
   "outputs": [
    {
     "name": "stdout",
     "output_type": "stream",
     "text": [
      "(32537, 35) (32537,)\n"
     ]
    }
   ],
   "source": [
    "X = df2.iloc[:,0:35]\n",
    "Y = df2.iloc[:,35]\n",
    "\n",
    "print(X.shape,Y.shape)"
   ]
  },
  {
   "cell_type": "markdown",
   "id": "256b2b01",
   "metadata": {},
   "source": [
    "### Train Test split"
   ]
  },
  {
   "cell_type": "code",
   "execution_count": 15,
   "id": "d9eb5570",
   "metadata": {},
   "outputs": [
    {
     "name": "stdout",
     "output_type": "stream",
     "text": [
      "(26029, 35) (6508, 35) (26029,) (6508,)\n"
     ]
    }
   ],
   "source": [
    "from sklearn.model_selection import train_test_split\n",
    "\n",
    "X_train,X_test,Y_train,Y_test = train_test_split(X,Y,train_size=0.8,random_state=42)\n",
    "print(X_train.shape,X_test.shape,Y_train.shape,Y_test.shape)"
   ]
  },
  {
   "cell_type": "markdown",
   "id": "1b774788",
   "metadata": {},
   "source": [
    "## Random Over Sampling"
   ]
  },
  {
   "cell_type": "code",
   "execution_count": 16,
   "id": "0097ce63",
   "metadata": {},
   "outputs": [
    {
     "name": "stderr",
     "output_type": "stream",
     "text": [
      "C:\\Users\\bijoy\\anaconda3\\lib\\site-packages\\imblearn\\utils\\_validation.py:587: FutureWarning: Pass sampling_strategy=0.9 as keyword args. From version 0.9 passing these as positional arguments will result in an error\n",
      "  warnings.warn(\n"
     ]
    },
    {
     "name": "stdout",
     "output_type": "stream",
     "text": [
      "the number of classes before fit Counter({0: 19793, 1: 6236})\n",
      "the number of classes after fit Counter({0: 19793, 1: 17813})\n"
     ]
    }
   ],
   "source": [
    "from collections import Counter\n",
    "from imblearn.over_sampling import RandomOverSampler\n",
    "os = RandomOverSampler(0.9)\n",
    "\n",
    "X_train_os,Y_train_os = os.fit_resample(X_train,Y_train)\n",
    "print(f\"the number of classes before fit {Counter(Y_train)}\")\n",
    "print(f\"the number of classes after fit {Counter(Y_train_os)}\")"
   ]
  },
  {
   "cell_type": "markdown",
   "id": "89e08973",
   "metadata": {},
   "source": [
    "# ----------------------------------------------------------------------------------------------------------------"
   ]
  },
  {
   "cell_type": "markdown",
   "id": "7e8ac2e3",
   "metadata": {},
   "source": [
    "# Model Building"
   ]
  },
  {
   "cell_type": "code",
   "execution_count": 17,
   "id": "6519aa26",
   "metadata": {},
   "outputs": [],
   "source": [
    "Model_summary = pd.DataFrame(columns=['Models', 'Accuracy_Score', '0_precision', '0_recall', '0_f1_score', '1_precision', '1_recall', '1_f1_score','AUC_score'])"
   ]
  },
  {
   "cell_type": "code",
   "execution_count": 18,
   "id": "229661b5",
   "metadata": {},
   "outputs": [],
   "source": [
    "def model_report(model,model_name, X_test, Y_test, y_pred):\n",
    "    \"\"\"\n",
    "    Record model performace data and return it.\n",
    "    \n",
    "    parameters:\n",
    "    -------------------------------\n",
    "    model: The ML model in use\n",
    "    model_name: Name of the algorithm\n",
    "    X_test: The validation features\n",
    "    Y_test: The gound truth data\n",
    "    y_pred: The predicted data\n",
    "    \"\"\"\n",
    "    temp = pd.DataFrame()\n",
    "    \n",
    "    temp['Models'] = [model_name]\n",
    "    temp['Accuracy_Score'] = [accuracy_score(Y_test,y_pred)]\n",
    "    temp['0_precision'] = [classification_report(Y_test,y_pred,output_dict=True)['0']['precision']]\n",
    "    temp['0_recall'] = [classification_report(Y_test,y_pred,output_dict=True)['0']['recall']]\n",
    "    temp['0_f1_score'] = [classification_report(Y_test,y_pred,output_dict=True)['0']['f1-score']]\n",
    "    temp['1_precision'] = [classification_report(Y_test,y_pred,output_dict=True)['1']['precision']]\n",
    "    temp['1_recall'] = [classification_report(Y_test,y_pred,output_dict=True)['1']['recall']]\n",
    "    temp['1_f1_score'] = [classification_report(Y_test,y_pred,output_dict=True)['1']['f1-score']]\n",
    "    temp['AUC_score'] = [roc_auc_score(Y_test,model.predict_proba(X_test)[:, 1])]\n",
    "    \n",
    "    return temp"
   ]
  },
  {
   "cell_type": "markdown",
   "id": "6d85f14a",
   "metadata": {},
   "source": [
    "## Logistic Regression"
   ]
  },
  {
   "cell_type": "code",
   "execution_count": 19,
   "id": "8b6c0681",
   "metadata": {},
   "outputs": [],
   "source": [
    "from sklearn import preprocessing\n",
    "\n",
    "scaler = preprocessing.StandardScaler()\n",
    "\n",
    "X_scaler = scaler.fit_transform(X_train)\n",
    "X_scaler_test = scaler.transform(X_test)"
   ]
  },
  {
   "cell_type": "code",
   "execution_count": 20,
   "id": "69113e10",
   "metadata": {},
   "outputs": [],
   "source": [
    "from sklearn.linear_model import LogisticRegression\n",
    "\n",
    "LR_model = LogisticRegression(max_iter=10000,class_weight='balanced')"
   ]
  },
  {
   "cell_type": "code",
   "execution_count": 21,
   "id": "8489853e",
   "metadata": {},
   "outputs": [
    {
     "name": "stdout",
     "output_type": "stream",
     "text": [
      "Accuracy: 0.78779963122311\n",
      "confusion matrix:\n",
      " [[3788 1117]\n",
      " [ 264 1339]]\n",
      "classification report:\n",
      "               precision    recall  f1-score   support\n",
      "\n",
      "           0       0.93      0.77      0.85      4905\n",
      "           1       0.55      0.84      0.66      1603\n",
      "\n",
      "    accuracy                           0.79      6508\n",
      "   macro avg       0.74      0.80      0.75      6508\n",
      "weighted avg       0.84      0.79      0.80      6508\n",
      "\n",
      "model predictive power:  0.8840395461364172\n"
     ]
    }
   ],
   "source": [
    "from sklearn.metrics import accuracy_score,confusion_matrix,classification_report,roc_auc_score\n",
    "\n",
    "LR_model.fit(X_scaler,Y_train)\n",
    "y_pred = LR_model.predict(X_scaler_test)\n",
    "\n",
    "print('Accuracy:',accuracy_score(Y_test,y_pred))\n",
    "print('confusion matrix:\\n',confusion_matrix(Y_test,y_pred))\n",
    "print('classification report:\\n',classification_report(Y_test,y_pred))\n",
    "print('model predictive power: ',roc_auc_score(Y_test,LR_model.predict_proba(X_scaler_test)[:, 1]))"
   ]
  },
  {
   "cell_type": "code",
   "execution_count": 22,
   "id": "16ee4fe4",
   "metadata": {},
   "outputs": [],
   "source": [
    "## Logging model report\n",
    "\n",
    "temp = model_report(LR_model,'Logistic Regression', X_scaler_test, Y_test, y_pred)\n",
    "Model_summary = pd.concat([Model_summary,temp],ignore_index=True)"
   ]
  },
  {
   "cell_type": "markdown",
   "id": "c8eacd9c",
   "metadata": {},
   "source": [
    "### Over Sample X_train and Y_train"
   ]
  },
  {
   "cell_type": "code",
   "execution_count": 23,
   "id": "13832e07",
   "metadata": {},
   "outputs": [],
   "source": [
    "from sklearn import preprocessing\n",
    "\n",
    "scaler = preprocessing.StandardScaler()\n",
    "\n",
    "X_scaler_os = scaler.fit_transform(X_train_os)\n",
    "X_scaler_test = scaler.transform(X_test)"
   ]
  },
  {
   "cell_type": "code",
   "execution_count": 24,
   "id": "69e6e7b6",
   "metadata": {},
   "outputs": [
    {
     "name": "stdout",
     "output_type": "stream",
     "text": [
      "Accuracy: 0.785341118623233\n",
      "confusion matrix:\n",
      " [[3773 1132]\n",
      " [ 265 1338]]\n",
      "classification report:\n",
      "               precision    recall  f1-score   support\n",
      "\n",
      "           0       0.93      0.77      0.84      4905\n",
      "           1       0.54      0.83      0.66      1603\n",
      "\n",
      "    accuracy                           0.79      6508\n",
      "   macro avg       0.74      0.80      0.75      6508\n",
      "weighted avg       0.84      0.79      0.80      6508\n",
      "\n",
      "model predictive power:  0.8838836203525119\n"
     ]
    }
   ],
   "source": [
    "# from sklearn.metrics import accuracy_score,confusion_matrix,classification_report,roc_auc_score\n",
    "\n",
    "LR_model.fit(X_scaler_os,Y_train_os)\n",
    "y_pred_os = LR_model.predict(X_scaler_test)\n",
    "\n",
    "print('Accuracy:',accuracy_score(Y_test,y_pred_os))\n",
    "print('confusion matrix:\\n',confusion_matrix(Y_test,y_pred_os))\n",
    "print('classification report:\\n',classification_report(Y_test,y_pred_os))\n",
    "print('model predictive power: ',roc_auc_score(Y_test,LR_model.predict_proba(X_scaler_test)[:, 1]))"
   ]
  },
  {
   "cell_type": "code",
   "execution_count": 25,
   "id": "a5d51fb4",
   "metadata": {},
   "outputs": [],
   "source": [
    "## Logging model report\n",
    "\n",
    "temp = model_report(LR_model,'Logistic Regression(os)', X_test, Y_test, y_pred_os)\n",
    "Model_summary = pd.concat([Model_summary,temp],ignore_index=True)"
   ]
  },
  {
   "cell_type": "code",
   "execution_count": 26,
   "id": "c2bb03e9",
   "metadata": {},
   "outputs": [
    {
     "name": "stdout",
     "output_type": "stream",
     "text": [
      "Fitting 5 folds for each of 6 candidates, totalling 30 fits\n"
     ]
    },
    {
     "data": {
      "text/plain": [
       "GridSearchCV(cv=5, estimator=LogisticRegression(), n_jobs=-1,\n",
       "             param_grid={'max_iter': (10000, 20000, 30000, 40000, 50000,\n",
       "                                      100000)},\n",
       "             verbose=1)"
      ]
     },
     "execution_count": 26,
     "metadata": {},
     "output_type": "execute_result"
    }
   ],
   "source": [
    "from sklearn.model_selection import GridSearchCV\n",
    "\n",
    "parameters = {'max_iter':(10000,20000,30000,40000,50000,100000)}\n",
    "\n",
    "model = LogisticRegression()\n",
    "clf = GridSearchCV(model,parameters,cv=5,verbose=1,n_jobs=-1)\n",
    "clf.fit(X_scaler_os,Y_train_os)"
   ]
  },
  {
   "cell_type": "code",
   "execution_count": 27,
   "id": "cd391767",
   "metadata": {},
   "outputs": [
    {
     "data": {
      "text/plain": [
       "{'max_iter': 10000}"
      ]
     },
     "execution_count": 27,
     "metadata": {},
     "output_type": "execute_result"
    }
   ],
   "source": [
    "clf.best_params_"
   ]
  },
  {
   "cell_type": "code",
   "execution_count": 28,
   "id": "463f852c",
   "metadata": {},
   "outputs": [
    {
     "data": {
      "text/plain": [
       "0.7966548154222506"
      ]
     },
     "execution_count": 28,
     "metadata": {},
     "output_type": "execute_result"
    }
   ],
   "source": [
    "clf.best_score_"
   ]
  },
  {
   "cell_type": "code",
   "execution_count": 29,
   "id": "7a8f779b",
   "metadata": {},
   "outputs": [
    {
     "name": "stdout",
     "output_type": "stream",
     "text": [
      "0.8080823601720959\n"
     ]
    }
   ],
   "source": [
    "from sklearn.ensemble import BaggingClassifier\n",
    "from sklearn.linear_model import LogisticRegression\n",
    "\n",
    "bag_clf = BaggingClassifier(LogisticRegression(max_iter=10000),max_features = 0.1, n_estimators=500, bootstrap=True, n_jobs=-1, random_state=42)\n",
    "bag_clf.fit(X_scaler_os, Y_train_os)\n",
    "Y_pred = bag_clf.predict(X_scaler_test)\n",
    "\n",
    "print(accuracy_score(Y_test, Y_pred))"
   ]
  },
  {
   "cell_type": "code",
   "execution_count": 30,
   "id": "5f268db2",
   "metadata": {},
   "outputs": [],
   "source": [
    "## Logging model report\n",
    "\n",
    "temp = model_report(bag_clf,'Bagging Classifier(Logistic Regression)', X_scaler_test, Y_test, y_pred)\n",
    "Model_summary = pd.concat([Model_summary,temp],ignore_index=True)"
   ]
  },
  {
   "cell_type": "markdown",
   "id": "5e5517c6",
   "metadata": {},
   "source": [
    "## Decision Tree"
   ]
  },
  {
   "cell_type": "code",
   "execution_count": 31,
   "id": "8dc4483c",
   "metadata": {},
   "outputs": [],
   "source": [
    "from sklearn.tree import DecisionTreeClassifier\n",
    "\n",
    "DT_model = DecisionTreeClassifier(max_depth=8, min_samples_split=62)"
   ]
  },
  {
   "cell_type": "code",
   "execution_count": 32,
   "id": "b37bd7ab",
   "metadata": {},
   "outputs": [
    {
     "name": "stdout",
     "output_type": "stream",
     "text": [
      "Accuracy: 0.8299016594960049\n",
      "confusion matrix:\n",
      " [[4439  466]\n",
      " [ 641  962]]\n",
      "classification report:\n",
      "               precision    recall  f1-score   support\n",
      "\n",
      "           0       0.87      0.90      0.89      4905\n",
      "           1       0.67      0.60      0.63      1603\n",
      "\n",
      "    accuracy                           0.83      6508\n",
      "   macro avg       0.77      0.75      0.76      6508\n",
      "weighted avg       0.82      0.83      0.83      6508\n",
      "\n",
      "model predictive power:  0.8754924348650561\n"
     ]
    }
   ],
   "source": [
    "# from sklearn.metrics import accuracy_score,confusion_matrix,classification_report,roc_auc_score\n",
    "\n",
    "DT_model.fit(X_train,Y_train)\n",
    "y_pred = DT_model.predict(X_test)\n",
    "\n",
    "print('Accuracy:',accuracy_score(Y_test,y_pred))\n",
    "print('confusion matrix:\\n',confusion_matrix(Y_test,y_pred))\n",
    "print('classification report:\\n',classification_report(Y_test,y_pred))\n",
    "print('model predictive power: ',roc_auc_score(Y_test,DT_model.predict_proba(X_test)[:, 1]))"
   ]
  },
  {
   "cell_type": "code",
   "execution_count": 33,
   "id": "fb748d2e",
   "metadata": {},
   "outputs": [],
   "source": [
    "## Logging model report\n",
    "\n",
    "temp = model_report(DT_model,'Decision Tree', X_test, Y_test, y_pred)\n",
    "Model_summary = pd.concat([Model_summary,temp],ignore_index=True)"
   ]
  },
  {
   "cell_type": "markdown",
   "id": "bec2948b",
   "metadata": {},
   "source": [
    "### Over Sample X_train and Y_train"
   ]
  },
  {
   "cell_type": "code",
   "execution_count": 34,
   "id": "0bda7646",
   "metadata": {},
   "outputs": [
    {
     "name": "stdout",
     "output_type": "stream",
     "text": [
      "Accuracy: 0.7679778733866011\n",
      "confusion matrix:\n",
      " [[3658 1247]\n",
      " [ 263 1340]]\n",
      "classification report:\n",
      "               precision    recall  f1-score   support\n",
      "\n",
      "           0       0.93      0.75      0.83      4905\n",
      "           1       0.52      0.84      0.64      1603\n",
      "\n",
      "    accuracy                           0.77      6508\n",
      "   macro avg       0.73      0.79      0.73      6508\n",
      "weighted avg       0.83      0.77      0.78      6508\n",
      "\n",
      "model predictive power:  0.8728771168737517\n"
     ]
    }
   ],
   "source": [
    "# from sklearn.metrics import accuracy_score,confusion_matrix,classification_report,roc_auc_score\n",
    "\n",
    "DT_model.fit(X_train_os,Y_train_os)\n",
    "y_pred_os = DT_model.predict(X_test)\n",
    "\n",
    "print('Accuracy:',accuracy_score(Y_test,y_pred_os))\n",
    "print('confusion matrix:\\n',confusion_matrix(Y_test,y_pred_os))\n",
    "print('classification report:\\n',classification_report(Y_test,y_pred_os))\n",
    "print('model predictive power: ',roc_auc_score(Y_test,DT_model.predict_proba(X_test)[:, 1]))"
   ]
  },
  {
   "cell_type": "code",
   "execution_count": 35,
   "id": "f4e9e249",
   "metadata": {},
   "outputs": [],
   "source": [
    "## Logging model report\n",
    "\n",
    "temp = model_report(DT_model,'Decision Tree(OS)', X_test, Y_test, y_pred_os)\n",
    "Model_summary = pd.concat([Model_summary,temp],ignore_index=True)"
   ]
  },
  {
   "cell_type": "code",
   "execution_count": 36,
   "id": "61affaea",
   "metadata": {},
   "outputs": [
    {
     "name": "stdout",
     "output_type": "stream",
     "text": [
      "Fitting 5 folds for each of 60 candidates, totalling 300 fits\n"
     ]
    },
    {
     "data": {
      "text/plain": [
       "GridSearchCV(cv=5, estimator=DecisionTreeClassifier(), n_jobs=-1,\n",
       "             param_grid={'max_depth': [5, 6, 7, 8, 9, 10],\n",
       "                         'min_samples_split': [2, 12, 22, 32, 42, 52, 62, 72,\n",
       "                                               82, 92]},\n",
       "             verbose=1)"
      ]
     },
     "execution_count": 36,
     "metadata": {},
     "output_type": "execute_result"
    }
   ],
   "source": [
    "from sklearn.tree import DecisionTreeClassifier\n",
    "from sklearn.model_selection import GridSearchCV\n",
    "\n",
    "parameters = {'max_depth':[5,6,7,8,9,10],\n",
    "              'min_samples_split':list(range(2,101,10))\n",
    "}\n",
    "\n",
    "DT_clf = GridSearchCV(DecisionTreeClassifier(),parameters,verbose=1,n_jobs=-1,cv=5)\n",
    "DT_clf.fit(X,Y)"
   ]
  },
  {
   "cell_type": "code",
   "execution_count": 37,
   "id": "46562df5",
   "metadata": {},
   "outputs": [
    {
     "data": {
      "text/plain": [
       "DecisionTreeClassifier(max_depth=8, min_samples_split=52)"
      ]
     },
     "execution_count": 37,
     "metadata": {},
     "output_type": "execute_result"
    }
   ],
   "source": [
    "DT_clf.best_estimator_"
   ]
  },
  {
   "cell_type": "code",
   "execution_count": 38,
   "id": "8bac688d",
   "metadata": {},
   "outputs": [
    {
     "data": {
      "text/plain": [
       "0.8296096520894853"
      ]
     },
     "execution_count": 38,
     "metadata": {},
     "output_type": "execute_result"
    }
   ],
   "source": [
    "DT_clf.best_score_"
   ]
  },
  {
   "cell_type": "code",
   "execution_count": 39,
   "id": "33079824",
   "metadata": {},
   "outputs": [
    {
     "name": "stdout",
     "output_type": "stream",
     "text": [
      "0.7536877688998156\n"
     ]
    }
   ],
   "source": [
    "from sklearn.ensemble import BaggingClassifier\n",
    "from sklearn.tree import DecisionTreeClassifier\n",
    "\n",
    "bag_clf = BaggingClassifier(DecisionTreeClassifier(max_depth=8, min_samples_split=62,random_state=42),max_features = 0.1, n_estimators=500, bootstrap=True, n_jobs=-1, random_state=42)\n",
    "bag_clf.fit(X_train, Y_train)\n",
    "Y_pred = bag_clf.predict(X_test)\n",
    "print(accuracy_score(Y_test, Y_pred))"
   ]
  },
  {
   "cell_type": "code",
   "execution_count": 40,
   "id": "8b001db8",
   "metadata": {},
   "outputs": [],
   "source": [
    "## Logging model report\n",
    "\n",
    "temp = model_report(bag_clf,'Bagging Classifier(Decision Tree)', X_test, Y_test, y_pred)\n",
    "Model_summary = pd.concat([Model_summary,temp],ignore_index=True)"
   ]
  },
  {
   "cell_type": "markdown",
   "id": "b7ad3828",
   "metadata": {},
   "source": [
    "## Random Forest"
   ]
  },
  {
   "cell_type": "code",
   "execution_count": 41,
   "id": "8cf2c981",
   "metadata": {},
   "outputs": [
    {
     "data": {
      "text/plain": [
       "RandomForestClassifier(max_features='sqrt', min_samples_split=10,\n",
       "                       n_estimators=500, n_jobs=-1, random_state=42)"
      ]
     },
     "execution_count": 41,
     "metadata": {},
     "output_type": "execute_result"
    }
   ],
   "source": [
    "from sklearn.ensemble import RandomForestClassifier\n",
    "\n",
    "rnd_clf = RandomForestClassifier(n_estimators=500, min_samples_split=10, n_jobs=-1, random_state=42,max_features='sqrt')\n",
    "\n",
    "rnd_clf.fit(X_train, Y_train)"
   ]
  },
  {
   "cell_type": "code",
   "execution_count": 42,
   "id": "fa989db1",
   "metadata": {},
   "outputs": [
    {
     "name": "stdout",
     "output_type": "stream",
     "text": [
      "Accuracy: 0.8369698832206515\n",
      "confusion matrix:\n",
      " [[4536  369]\n",
      " [ 692  911]]\n",
      "classification report:\n",
      "               precision    recall  f1-score   support\n",
      "\n",
      "           0       0.87      0.92      0.90      4905\n",
      "           1       0.71      0.57      0.63      1603\n",
      "\n",
      "    accuracy                           0.84      6508\n",
      "   macro avg       0.79      0.75      0.76      6508\n",
      "weighted avg       0.83      0.84      0.83      6508\n",
      "\n",
      "model predictive power:  0.8860197781555099\n"
     ]
    }
   ],
   "source": [
    "# from sklearn.metrics import accuracy_score,confusion_matrix,classification_report,roc_auc_score\n",
    "\n",
    "rnd_clf.fit(X_train, Y_train)\n",
    "y_pred = rnd_clf.predict(X_test)\n",
    "\n",
    "print('Accuracy:',accuracy_score(Y_test,y_pred))\n",
    "print('confusion matrix:\\n',confusion_matrix(Y_test,y_pred))\n",
    "print('classification report:\\n',classification_report(Y_test,y_pred))\n",
    "print('model predictive power: ',roc_auc_score(Y_test,rnd_clf.predict_proba(X_test)[:, 1]))"
   ]
  },
  {
   "cell_type": "code",
   "execution_count": 43,
   "id": "cbd9ad9e",
   "metadata": {},
   "outputs": [],
   "source": [
    "## Logging model report\n",
    "\n",
    "temp = model_report(rnd_clf,'Random Forest', X_test, Y_test, y_pred)\n",
    "Model_summary = pd.concat([Model_summary,temp],ignore_index=True)"
   ]
  },
  {
   "cell_type": "markdown",
   "id": "d9dd3164",
   "metadata": {},
   "source": [
    "### Over Sample X_train and Y_train"
   ]
  },
  {
   "cell_type": "code",
   "execution_count": 44,
   "id": "24ee79a7",
   "metadata": {},
   "outputs": [
    {
     "name": "stdout",
     "output_type": "stream",
     "text": [
      "Accuracy: 0.8200676090964967\n",
      "confusion matrix:\n",
      " [[4191  714]\n",
      " [ 457 1146]]\n",
      "classification report:\n",
      "               precision    recall  f1-score   support\n",
      "\n",
      "           0       0.90      0.85      0.88      4905\n",
      "           1       0.62      0.71      0.66      1603\n",
      "\n",
      "    accuracy                           0.82      6508\n",
      "   macro avg       0.76      0.78      0.77      6508\n",
      "weighted avg       0.83      0.82      0.82      6508\n",
      "\n",
      "model predictive power:  0.8818813857554293\n"
     ]
    }
   ],
   "source": [
    "# from sklearn.metrics import accuracy_score,confusion_matrix,classification_report,roc_auc_score\n",
    "\n",
    "rnd_clf.fit(X_train_os, Y_train_os)\n",
    "y_pred_os = rnd_clf.predict(X_test)\n",
    "\n",
    "print('Accuracy:',accuracy_score(Y_test,y_pred_os))\n",
    "print('confusion matrix:\\n',confusion_matrix(Y_test,y_pred_os))\n",
    "print('classification report:\\n',classification_report(Y_test,y_pred_os))\n",
    "print('model predictive power: ',roc_auc_score(Y_test,rnd_clf.predict_proba(X_test)[:, 1]))"
   ]
  },
  {
   "cell_type": "code",
   "execution_count": 45,
   "id": "60346eca",
   "metadata": {},
   "outputs": [],
   "source": [
    "## Logging model report\n",
    "\n",
    "temp = model_report(rnd_clf,'Random Forest(OS)', X_test, Y_test, y_pred_os)\n",
    "Model_summary = pd.concat([Model_summary,temp],ignore_index=True)"
   ]
  },
  {
   "cell_type": "code",
   "execution_count": 46,
   "id": "8f99e737",
   "metadata": {
    "scrolled": true
   },
   "outputs": [
    {
     "name": "stdout",
     "output_type": "stream",
     "text": [
      "Fitting 5 folds for each of 50 candidates, totalling 250 fits\n"
     ]
    },
    {
     "data": {
      "text/plain": [
       "RandomizedSearchCV(cv=5, estimator=RandomForestClassifier(), n_iter=50,\n",
       "                   n_jobs=-1,\n",
       "                   param_distributions={'max_features': ['auto', 'sqrt',\n",
       "                                                         'log2'],\n",
       "                                        'max_leaf_nodes': [2, 4, 6, 8, 10, 12,\n",
       "                                                           14, 16, 18, 20],\n",
       "                                        'min_samples_split': [2, 4, 6, 8, 10,\n",
       "                                                              12, 14]},\n",
       "                   verbose=1)"
      ]
     },
     "execution_count": 46,
     "metadata": {},
     "output_type": "execute_result"
    }
   ],
   "source": [
    "from sklearn.model_selection import RandomizedSearchCV\n",
    "\n",
    "parameters = {'min_samples_split':[2,4,6,8,10,12,14],\n",
    "              'max_features':['auto', 'sqrt', 'log2'],\n",
    "              'max_leaf_nodes':[2,4,6,8,10,12,14,16,18,20]\n",
    "             }\n",
    "\n",
    "rs_RF = RandomizedSearchCV(RandomForestClassifier(n_estimators=100),parameters,cv=5,n_iter=50,verbose=1,n_jobs=-1)\n",
    "rs_RF.fit(X_train_os,Y_train_os)"
   ]
  },
  {
   "cell_type": "code",
   "execution_count": 47,
   "id": "159574de",
   "metadata": {},
   "outputs": [
    {
     "data": {
      "text/plain": [
       "RandomForestClassifier(max_leaf_nodes=20, min_samples_split=6)"
      ]
     },
     "execution_count": 47,
     "metadata": {},
     "output_type": "execute_result"
    }
   ],
   "source": [
    "rs_RF.best_estimator_"
   ]
  },
  {
   "cell_type": "code",
   "execution_count": 48,
   "id": "12a11c92",
   "metadata": {},
   "outputs": [
    {
     "data": {
      "text/plain": [
       "0.7991543981734596"
      ]
     },
     "execution_count": 48,
     "metadata": {},
     "output_type": "execute_result"
    }
   ],
   "source": [
    "rs_RF.best_score_"
   ]
  },
  {
   "cell_type": "markdown",
   "id": "e5be2662",
   "metadata": {},
   "source": [
    "## Gradient Boosting"
   ]
  },
  {
   "cell_type": "code",
   "execution_count": 49,
   "id": "f85f5c79",
   "metadata": {},
   "outputs": [],
   "source": [
    "from sklearn.ensemble import GradientBoostingClassifier\n",
    "\n",
    "Grad_clf = GradientBoostingClassifier(max_depth=5,random_state=42)"
   ]
  },
  {
   "cell_type": "code",
   "execution_count": 50,
   "id": "9dd43235",
   "metadata": {},
   "outputs": [
    {
     "name": "stdout",
     "output_type": "stream",
     "text": [
      "Accuracy: 0.8200676090964967\n",
      "confusion matrix:\n",
      " [[4191  714]\n",
      " [ 457 1146]]\n",
      "classification report:\n",
      "               precision    recall  f1-score   support\n",
      "\n",
      "           0       0.90      0.85      0.88      4905\n",
      "           1       0.62      0.71      0.66      1603\n",
      "\n",
      "    accuracy                           0.82      6508\n",
      "   macro avg       0.76      0.78      0.77      6508\n",
      "weighted avg       0.83      0.82      0.82      6508\n",
      "\n",
      "model predictive power:  0.8919581213359508\n"
     ]
    }
   ],
   "source": [
    "# from sklearn.metrics import accuracy_score,confusion_matrix,classification_report,roc_auc_score\n",
    "\n",
    "Grad_clf.fit(X_train, Y_train)\n",
    "y_pred = rnd_clf.predict(X_test)\n",
    "\n",
    "print('Accuracy:',accuracy_score(Y_test,y_pred))\n",
    "print('confusion matrix:\\n',confusion_matrix(Y_test,y_pred))\n",
    "print('classification report:\\n',classification_report(Y_test,y_pred))\n",
    "print('model predictive power: ',roc_auc_score(Y_test,Grad_clf.predict_proba(X_test)[:, 1]))"
   ]
  },
  {
   "cell_type": "code",
   "execution_count": 51,
   "id": "888663e2",
   "metadata": {},
   "outputs": [],
   "source": [
    "## Logging model report\n",
    "\n",
    "temp = model_report(Grad_clf,'Gradient Boosting', X_test, Y_test, y_pred)\n",
    "Model_summary = pd.concat([Model_summary,temp],ignore_index=True)"
   ]
  },
  {
   "cell_type": "markdown",
   "id": "e0ed6f7b",
   "metadata": {},
   "source": [
    "### Over Sample X_train and Y_train"
   ]
  },
  {
   "cell_type": "code",
   "execution_count": 52,
   "id": "ac765af6",
   "metadata": {},
   "outputs": [
    {
     "name": "stdout",
     "output_type": "stream",
     "text": [
      "Accuracy: 0.8016287645974186\n",
      "confusion matrix:\n",
      " [[3886 1019]\n",
      " [ 272 1331]]\n",
      "classification report:\n",
      "               precision    recall  f1-score   support\n",
      "\n",
      "           0       0.93      0.79      0.86      4905\n",
      "           1       0.57      0.83      0.67      1603\n",
      "\n",
      "    accuracy                           0.80      6508\n",
      "   macro avg       0.75      0.81      0.77      6508\n",
      "weighted avg       0.84      0.80      0.81      6508\n",
      "\n",
      "model predictive power:  0.8926863685126576\n"
     ]
    }
   ],
   "source": [
    "# from sklearn.metrics import accuracy_score,confusion_matrix,classification_report,roc_auc_score\n",
    "\n",
    "Grad_clf.fit(X_train_os, Y_train_os)\n",
    "y_pred_os = Grad_clf.predict(X_test)\n",
    "\n",
    "print('Accuracy:',accuracy_score(Y_test,y_pred_os))\n",
    "print('confusion matrix:\\n',confusion_matrix(Y_test,y_pred_os))\n",
    "print('classification report:\\n',classification_report(Y_test,y_pred_os))\n",
    "print('model predictive power: ',roc_auc_score(Y_test,Grad_clf.predict_proba(X_test)[:, 1]))"
   ]
  },
  {
   "cell_type": "code",
   "execution_count": 53,
   "id": "b811bc55",
   "metadata": {},
   "outputs": [],
   "source": [
    "## Logging model report\n",
    "\n",
    "temp = model_report(Grad_clf,'Gradient Boosting(OS)', X_test, Y_test, y_pred_os)\n",
    "Model_summary = pd.concat([Model_summary,temp],ignore_index=True)"
   ]
  },
  {
   "cell_type": "code",
   "execution_count": 54,
   "id": "76e9223a",
   "metadata": {},
   "outputs": [
    {
     "data": {
      "text/html": [
       "<div>\n",
       "<style scoped>\n",
       "    .dataframe tbody tr th:only-of-type {\n",
       "        vertical-align: middle;\n",
       "    }\n",
       "\n",
       "    .dataframe tbody tr th {\n",
       "        vertical-align: top;\n",
       "    }\n",
       "\n",
       "    .dataframe thead th {\n",
       "        text-align: right;\n",
       "    }\n",
       "</style>\n",
       "<table border=\"1\" class=\"dataframe\">\n",
       "  <thead>\n",
       "    <tr style=\"text-align: right;\">\n",
       "      <th></th>\n",
       "      <th>Models</th>\n",
       "      <th>Accuracy_Score</th>\n",
       "      <th>0_precision</th>\n",
       "      <th>0_recall</th>\n",
       "      <th>0_f1_score</th>\n",
       "      <th>1_precision</th>\n",
       "      <th>1_recall</th>\n",
       "      <th>1_f1_score</th>\n",
       "      <th>AUC_score</th>\n",
       "    </tr>\n",
       "  </thead>\n",
       "  <tbody>\n",
       "    <tr>\n",
       "      <th>0</th>\n",
       "      <td>Logistic Regression</td>\n",
       "      <td>0.787800</td>\n",
       "      <td>0.934847</td>\n",
       "      <td>0.772273</td>\n",
       "      <td>0.845819</td>\n",
       "      <td>0.545195</td>\n",
       "      <td>0.835309</td>\n",
       "      <td>0.659768</td>\n",
       "      <td>0.884040</td>\n",
       "    </tr>\n",
       "    <tr>\n",
       "      <th>1</th>\n",
       "      <td>Logistic Regression(os)</td>\n",
       "      <td>0.785341</td>\n",
       "      <td>0.934373</td>\n",
       "      <td>0.769215</td>\n",
       "      <td>0.843788</td>\n",
       "      <td>0.541700</td>\n",
       "      <td>0.834685</td>\n",
       "      <td>0.657010</td>\n",
       "      <td>0.503874</td>\n",
       "    </tr>\n",
       "    <tr>\n",
       "      <th>2</th>\n",
       "      <td>Bagging Classifier(Logistic Regression)</td>\n",
       "      <td>0.787800</td>\n",
       "      <td>0.934847</td>\n",
       "      <td>0.772273</td>\n",
       "      <td>0.845819</td>\n",
       "      <td>0.545195</td>\n",
       "      <td>0.835309</td>\n",
       "      <td>0.659768</td>\n",
       "      <td>0.869475</td>\n",
       "    </tr>\n",
       "    <tr>\n",
       "      <th>3</th>\n",
       "      <td>Decision Tree</td>\n",
       "      <td>0.829902</td>\n",
       "      <td>0.873819</td>\n",
       "      <td>0.904995</td>\n",
       "      <td>0.889134</td>\n",
       "      <td>0.673669</td>\n",
       "      <td>0.600125</td>\n",
       "      <td>0.634774</td>\n",
       "      <td>0.875492</td>\n",
       "    </tr>\n",
       "    <tr>\n",
       "      <th>4</th>\n",
       "      <td>Decision Tree(OS)</td>\n",
       "      <td>0.767978</td>\n",
       "      <td>0.932925</td>\n",
       "      <td>0.745770</td>\n",
       "      <td>0.828915</td>\n",
       "      <td>0.517974</td>\n",
       "      <td>0.835933</td>\n",
       "      <td>0.639618</td>\n",
       "      <td>0.872877</td>\n",
       "    </tr>\n",
       "    <tr>\n",
       "      <th>5</th>\n",
       "      <td>Bagging Classifier(Decision Tree)</td>\n",
       "      <td>0.829902</td>\n",
       "      <td>0.873819</td>\n",
       "      <td>0.904995</td>\n",
       "      <td>0.889134</td>\n",
       "      <td>0.673669</td>\n",
       "      <td>0.600125</td>\n",
       "      <td>0.634774</td>\n",
       "      <td>0.878336</td>\n",
       "    </tr>\n",
       "    <tr>\n",
       "      <th>6</th>\n",
       "      <td>Random Forest</td>\n",
       "      <td>0.836970</td>\n",
       "      <td>0.867636</td>\n",
       "      <td>0.924771</td>\n",
       "      <td>0.895293</td>\n",
       "      <td>0.711719</td>\n",
       "      <td>0.568309</td>\n",
       "      <td>0.631981</td>\n",
       "      <td>0.886020</td>\n",
       "    </tr>\n",
       "    <tr>\n",
       "      <th>7</th>\n",
       "      <td>Random Forest(OS)</td>\n",
       "      <td>0.820068</td>\n",
       "      <td>0.901678</td>\n",
       "      <td>0.854434</td>\n",
       "      <td>0.877421</td>\n",
       "      <td>0.616129</td>\n",
       "      <td>0.714910</td>\n",
       "      <td>0.661854</td>\n",
       "      <td>0.881881</td>\n",
       "    </tr>\n",
       "    <tr>\n",
       "      <th>8</th>\n",
       "      <td>Gradient Boosting</td>\n",
       "      <td>0.820068</td>\n",
       "      <td>0.901678</td>\n",
       "      <td>0.854434</td>\n",
       "      <td>0.877421</td>\n",
       "      <td>0.616129</td>\n",
       "      <td>0.714910</td>\n",
       "      <td>0.661854</td>\n",
       "      <td>0.891958</td>\n",
       "    </tr>\n",
       "    <tr>\n",
       "      <th>9</th>\n",
       "      <td>Gradient Boosting(OS)</td>\n",
       "      <td>0.801629</td>\n",
       "      <td>0.934584</td>\n",
       "      <td>0.792253</td>\n",
       "      <td>0.857553</td>\n",
       "      <td>0.566383</td>\n",
       "      <td>0.830318</td>\n",
       "      <td>0.673413</td>\n",
       "      <td>0.892686</td>\n",
       "    </tr>\n",
       "  </tbody>\n",
       "</table>\n",
       "</div>"
      ],
      "text/plain": [
       "                                    Models  Accuracy_Score  0_precision  \\\n",
       "0                      Logistic Regression        0.787800     0.934847   \n",
       "1                  Logistic Regression(os)        0.785341     0.934373   \n",
       "2  Bagging Classifier(Logistic Regression)        0.787800     0.934847   \n",
       "3                            Decision Tree        0.829902     0.873819   \n",
       "4                        Decision Tree(OS)        0.767978     0.932925   \n",
       "5        Bagging Classifier(Decision Tree)        0.829902     0.873819   \n",
       "6                            Random Forest        0.836970     0.867636   \n",
       "7                        Random Forest(OS)        0.820068     0.901678   \n",
       "8                        Gradient Boosting        0.820068     0.901678   \n",
       "9                    Gradient Boosting(OS)        0.801629     0.934584   \n",
       "\n",
       "   0_recall  0_f1_score  1_precision  1_recall  1_f1_score  AUC_score  \n",
       "0  0.772273    0.845819     0.545195  0.835309    0.659768   0.884040  \n",
       "1  0.769215    0.843788     0.541700  0.834685    0.657010   0.503874  \n",
       "2  0.772273    0.845819     0.545195  0.835309    0.659768   0.869475  \n",
       "3  0.904995    0.889134     0.673669  0.600125    0.634774   0.875492  \n",
       "4  0.745770    0.828915     0.517974  0.835933    0.639618   0.872877  \n",
       "5  0.904995    0.889134     0.673669  0.600125    0.634774   0.878336  \n",
       "6  0.924771    0.895293     0.711719  0.568309    0.631981   0.886020  \n",
       "7  0.854434    0.877421     0.616129  0.714910    0.661854   0.881881  \n",
       "8  0.854434    0.877421     0.616129  0.714910    0.661854   0.891958  \n",
       "9  0.792253    0.857553     0.566383  0.830318    0.673413   0.892686  "
      ]
     },
     "execution_count": 54,
     "metadata": {},
     "output_type": "execute_result"
    }
   ],
   "source": [
    "Model_summary"
   ]
  },
  {
   "cell_type": "markdown",
   "id": "5612e5ad",
   "metadata": {},
   "source": [
    "# Model Selection\n",
    "\n",
    "Random Forest with oversampling and Gradient Boosting works better on average for both precision and recall of both classes compared to other models. As Gradient Boosting is a complex model than Random Forest, So I decided to go with Random Forest."
   ]
  },
  {
   "cell_type": "code",
   "execution_count": null,
   "id": "db06a970",
   "metadata": {},
   "outputs": [],
   "source": []
  },
  {
   "cell_type": "code",
   "execution_count": null,
   "id": "ad124c25",
   "metadata": {},
   "outputs": [],
   "source": []
  }
 ],
 "metadata": {
  "kernelspec": {
   "display_name": "Python 3",
   "language": "python",
   "name": "python3"
  },
  "language_info": {
   "codemirror_mode": {
    "name": "ipython",
    "version": 3
   },
   "file_extension": ".py",
   "mimetype": "text/x-python",
   "name": "python",
   "nbconvert_exporter": "python",
   "pygments_lexer": "ipython3",
   "version": "3.8.8"
  }
 },
 "nbformat": 4,
 "nbformat_minor": 5
}
